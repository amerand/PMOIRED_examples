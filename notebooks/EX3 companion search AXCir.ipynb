{
 "cells": [
  {
   "cell_type": "markdown",
   "metadata": {},
   "source": [
    "# PMOIRED example #3: AX Cir and companion search\n",
    "\n",
    "binary search *à la* [CANDID](https://github.com/amerand/CANDID). Results are currently slightly different from CANDID, as bandwidth smearing in PMOIRED is still not computed properly, and in the case of AX Cir, the separation is quite large compared to to the bandwidth semaring radius (R$\\lambda$/B).  \n",
    "\n",
    "In this example:\n",
    "- model the observations with a simple gray binary \n",
    "- using `gridFit` and `showGrid` to find the global minimum for the sepration vector of the binary\n",
    "- bootstrapping to better estimate the object's parameters\n",
    "- usinf `detectionLimit` to estimate detection limit on a third companion\n",
    "\n",
    "*https://github.com/amerand/PMOIRED - Antoine Mérand (amerand@eso.org)*"
   ]
  },
  {
   "cell_type": "code",
   "execution_count": null,
   "metadata": {
    "execution": {
     "iopub.execute_input": "2024-05-16T06:11:36.206953Z",
     "iopub.status.busy": "2024-05-16T06:11:36.206478Z",
     "iopub.status.idle": "2024-05-16T06:11:38.619912Z",
     "shell.execute_reply": "2024-05-16T06:11:38.618790Z"
    }
   },
   "outputs": [],
   "source": [
    "#-- uncomment to get interactive plots\n",
    "#%matplotlib widget\n",
    "import numpy as np\n",
    "import pmoired"
   ]
  },
  {
   "cell_type": "markdown",
   "metadata": {},
   "source": [
    "# Load Data"
   ]
  },
  {
   "cell_type": "code",
   "execution_count": null,
   "metadata": {
    "execution": {
     "iopub.execute_input": "2024-05-16T06:11:38.625464Z",
     "iopub.status.busy": "2024-05-16T06:11:38.625059Z",
     "iopub.status.idle": "2024-05-16T06:11:38.712354Z",
     "shell.execute_reply": "2024-05-16T06:11:38.711111Z"
    }
   },
   "outputs": [],
   "source": [
    "oi = pmoired.OI('../DATA/AXCir/AXCir.oifits')"
   ]
  },
  {
   "cell_type": "markdown",
   "metadata": {},
   "source": [
    "# Grid Search\n",
    "To do a grid search, we need to define:\n",
    "- a basic model, here composed of a primary star `*` and a a companion `c`. The \n",
    "- an exploration dictionnary `expl`: here we want to do explore `c,x` and `c,y` in a grid, each between -40 and +40mas (R$_\\mathrm{spectro}$ <$\\lambda$>/B$_{max}$/2), with a step of 4mas (<$\\lambda$>/B$_{max}$).    \n",
    "- as usual, which observable we will fit: `V2` and `T3PHI`\n",
    "- additionnaly, we can define priors and constraints. Priors are apply during the fit, whereas constraints are applied to the grid of inital parameters\n",
    "\n",
    "It is important to let `gridFit()` which parameters to fit. As usual, one needs to fix one of the fluxes, here the flux of the primary star. We also assume that the companion is unresolved, so its angular diameter is fixed to 0. Searching beyond R$_\\mathrm{spectro}$ <$\\lambda$>/B$_{max}$/2, the effects of bandwidth smearing start to be quite important and will reduce the interferometric signal of the binary. Since `PMOIRED` does not compute (yet) correctly the bandwidth smearing, the contrast ratio will be incorrect for large separation, which is the case for AX Cir.   "
   ]
  },
  {
   "cell_type": "code",
   "execution_count": null,
   "metadata": {
    "execution": {
     "iopub.execute_input": "2024-05-16T06:11:38.768288Z",
     "iopub.status.busy": "2024-05-16T06:11:38.767910Z",
     "iopub.status.idle": "2024-05-16T06:12:11.877392Z",
     "shell.execute_reply": "2024-05-16T06:12:11.876076Z"
    }
   },
   "outputs": [],
   "source": [
    "# -- smallest lambda/B in mas (first data set) \n",
    "step = 180*3600*1000e-6/np.pi/max([np.max(oi.data[0]['OI_VIS2'][k]['B/wl']) for k in oi.data[0]['OI_VIS2']])\n",
    "\n",
    "# -- spectral resolution (first data set) \n",
    "R = np.mean(oi.data[0]['WL']/oi.data[0]['dWL'])\n",
    "\n",
    "print('step: %.1fmas, range: +- %.1fmas'%(step, R/2*step))\n",
    "\n",
    "# -- initial model dict: 'c,x' and 'c,y' do not matter, as they will be explored in the fit\n",
    "param = {'*,ud':0.8, '*,f':1, 'c,f':0.01, 'c,x':0, 'c,y':0, 'c,ud':0.0}\n",
    "\n",
    "# -- define the exploration pattern\n",
    "expl = {'grid':{'c,x':(-R/2*step, R/2*step, step), 'c,y':(-R/2*step, R/2*step, step)}}\n",
    "\n",
    "# -- setup the fit, as usual\n",
    "oi.setupFit({'obs':['V2', 'T3PHI']})\n",
    "\n",
    "# -- reference fit (no companion)\n",
    "oi.doFit({'ud':0.8})\n",
    "bestUD = oi.bestfit['best']\n",
    "\n",
    "# -- actual grid fit\n",
    "oi.gridFit(expl, model=param, doNotFit=['*,f', 'c,ud'], prior=[('c,f', '<', 1)], \n",
    "           constrain=[('np.sqrt(c,x**2+c,y**2)', '<=', R*step/2),\n",
    "                      ('np.sqrt(c,x**2+c,y**2)', '>', step/2) ])"
   ]
  },
  {
   "cell_type": "markdown",
   "metadata": {},
   "source": [
    "# Inspect grid search\n",
    "\n",
    "`showGrid()` shows a 2D map of the $\\chi^2$ of the minima. The black crosses are the starting points of the fits, and the coloured dots are the location / corresponding $\\chi^2$ of the local minima."
   ]
  },
  {
   "cell_type": "code",
   "execution_count": null,
   "metadata": {
    "execution": {
     "iopub.execute_input": "2024-05-16T06:12:11.882123Z",
     "iopub.status.busy": "2024-05-16T06:12:11.881724Z",
     "iopub.status.idle": "2024-05-16T06:12:13.243495Z",
     "shell.execute_reply": "2024-05-16T06:12:13.242767Z"
    }
   },
   "outputs": [],
   "source": [
    "# -- show the 2D grid of reduced chi2\n",
    "oi.showGrid(interpolate=True, tight=True)"
   ]
  },
  {
   "cell_type": "markdown",
   "metadata": {},
   "source": [
    "## Significance of the detection\n",
    "\n",
    "`oi.grid` is the sorted (by $\\chi_r^2$) list of grid points. Each fit contains a lof of information, the same as the best fit `oi.bestfit`. One can use the $\\chi^2$ statistics which requires the null-hypothesis $\\chi_r^2$, the test $\\chi_r^2$ (<null-hypothesis) and the number of degrees of freedom. The function `pmoired.oimodels._nSigmas` wraps up the necessary calculations based on `scipy.stats.chi2.cdf` and `scipy.stats.chi2.ppf`. The null-hypothesis $\\chi_r^2$ can be entered manually of computed using a model and the method `_chi2FromModel`. To stay safely within numerical accuracy, the maximum significance is only 8 sigma (1e-15 chance of false detection).\n",
    "\n",
    "In the case below, the significance is about 8$\\sigma$, which is also the result found with [`CANDID`](https://github.com/amerand/CANDID)."
   ]
  },
  {
   "cell_type": "code",
   "execution_count": null,
   "metadata": {
    "execution": {
     "iopub.execute_input": "2024-05-16T06:12:13.247546Z",
     "iopub.status.busy": "2024-05-16T06:12:13.247124Z",
     "iopub.status.idle": "2024-05-16T06:12:14.616026Z",
     "shell.execute_reply": "2024-05-16T06:12:14.615288Z"
    }
   },
   "outputs": [],
   "source": [
    "oi.showGrid(interpolate=True, tight=True, significance=bestUD)"
   ]
  },
  {
   "cell_type": "markdown",
   "metadata": {},
   "source": [
    "# Show best fit model (from grid)"
   ]
  },
  {
   "cell_type": "code",
   "execution_count": null,
   "metadata": {
    "execution": {
     "iopub.execute_input": "2024-05-16T06:12:14.620818Z",
     "iopub.status.busy": "2024-05-16T06:12:14.620466Z",
     "iopub.status.idle": "2024-05-16T06:12:20.477246Z",
     "shell.execute_reply": "2024-05-16T06:12:20.476194Z"
    }
   },
   "outputs": [],
   "source": [
    "# -- show data with best fit \n",
    "oi.show()"
   ]
  },
  {
   "cell_type": "markdown",
   "metadata": {},
   "source": [
    "# Parameters estimation using bootstrapping\n",
    "One can refine the estimation of the companion's parameters, by using bootstrapping. This usually results in larger uncertainties, because bootstrapping mitigate the effects of correlated data. In the case of this example, because we have only one sequence of observations, data resampling does not help much. However, it shows that the data set is consistent: there are no part of the dataset improving / degrading the companion detection."
   ]
  },
  {
   "cell_type": "code",
   "execution_count": null,
   "metadata": {
    "execution": {
     "iopub.execute_input": "2024-05-16T06:12:20.482100Z",
     "iopub.status.busy": "2024-05-16T06:12:20.481749Z",
     "iopub.status.idle": "2024-05-16T06:12:44.385769Z",
     "shell.execute_reply": "2024-05-16T06:12:44.385027Z"
    }
   },
   "outputs": [],
   "source": [
    "oi.bootstrapFit(300)\n",
    "oi.showBootstrap()"
   ]
  },
  {
   "cell_type": "markdown",
   "metadata": {},
   "source": [
    "# Look for a third component: detection limit\n",
    "\n",
    "Assuming that the best model is the one we found before, we add a third unresolved component. Using `detectionLimit` in a way very similar to `gridSearch`. We define an exploration pattern randomising on the position of the third components, and estimating the flux leading to a 3$\\sigma$ detection. This method was described in [Absil et al (2011)](https://ui.adsabs.harvard.edu/abs/2011A%26A...535A..68A/abstract) and implemented in [CANDID](https://github.com/amerand/CANDID). Using `showLimGrid`, we see the detection level as function of position of third component (left), as well as the histogram of the its 3$\\sigma$ magnitude. Note that we need to set `mag=1` option to get the display in magnitude, rather than straight fluxes. Note also that interpretating the result need to take into account the flux of the primary, which is 1 in our case.  \n",
    "\n",
    "CANDID finds a $\\sim$5.6mag detection limit for 99% of the position. Here, the median third star has a 3$\\sigma$ detection limit of 6.0mag, and 95% are between 5.7 and 6.3mag, so the agreement is excellent. "
   ]
  },
  {
   "cell_type": "code",
   "execution_count": null,
   "metadata": {
    "execution": {
     "iopub.execute_input": "2024-05-16T06:12:44.390411Z",
     "iopub.status.busy": "2024-05-16T06:12:44.389959Z",
     "iopub.status.idle": "2024-05-16T06:12:58.881525Z",
     "shell.execute_reply": "2024-05-16T06:12:58.880702Z"
    }
   },
   "outputs": [],
   "source": [
    "# -- smallest lambda/B in mas (first data set) \n",
    "step = 180*3600*1000e-6/np.pi/max([np.max(oi.data[0]['OI_VIS2'][k]['B/wl']) for k in oi.data[0]['OI_VIS2']])\n",
    "\n",
    "# -- spectral resolution (first data set) \n",
    "R = np.mean(oi.data[0]['WL']/oi.data[0]['dWL'])\n",
    "\n",
    "print('step: %.1fmas, range: +- %.1fmas'%(step, R/2*step))\n",
    "\n",
    "# -- best model from above\n",
    "best = {'*,ud':0.8278, # +/- 0.0078\n",
    "        'c,f': 0.00853, # +/- 0.00039\n",
    "        'c,x': 6.226, # +/- 0.059\n",
    "        'c,y': -28.503, # +/- 0.078\n",
    "        '*,f': 1,\n",
    "        'c,ud':0.0,\n",
    "        '3,ud':0, '3,x':-15, '3,y':5, '3,f':0.01\n",
    "       }\n",
    "\n",
    "# -- grid exploration\n",
    "#expl = {'grid':{'3,x':(-20, 20, 1), '3,y':(-20, 20, 1)}}\n",
    "#oi.detectionLimit(expl, '3,f', model=best)\n",
    "\n",
    "# -- random exploration\n",
    "expl = {'rand':{'3,x':(-R*step/2, R*step/2), '3,y':(-R*step/2, R*step/2)}}\n",
    "\n",
    "oi.detectionLimit(expl, '3,f', model=best, Nfits=500, nsigma=3, \n",
    "                 constrain=[('np.sqrt(3,x**2+3,y**2)', '<=', R*step/2 ),\n",
    "                            ('np.sqrt(3,x**2+3,y**2)', '>', step/2) ])\n",
    " \n",
    "oi.showLimGrid(mag=1)"
   ]
  }
 ],
 "metadata": {
  "kernelspec": {
   "display_name": "Python 3 (ipykernel)",
   "language": "python",
   "name": "python3"
  },
  "language_info": {
   "codemirror_mode": {
    "name": "ipython",
    "version": 3
   },
   "file_extension": ".py",
   "mimetype": "text/x-python",
   "name": "python",
   "nbconvert_exporter": "python",
   "pygments_lexer": "ipython3",
   "version": "3.12.2"
  },
  "widgets": {
   "application/vnd.jupyter.widget-state+json": {
    "state": {},
    "version_major": 2,
    "version_minor": 0
   }
  }
 },
 "nbformat": 4,
 "nbformat_minor": 4
}
