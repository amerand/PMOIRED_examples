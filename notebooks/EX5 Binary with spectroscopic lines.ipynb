{
 "cells": [
  {
   "cell_type": "markdown",
   "id": "194b6e14-cd73-4bb6-b859-85255650eb0b",
   "metadata": {},
   "source": [
    "# `PMOIRED` example #5: How to model spectral lines\n",
    "\n",
    "We will analyse the GRAVITY data on the eclipsing binary [$\\omicron$ Leo](https://simbad.cds.unistra.fr/simbad/sim-id?Ident=omi+Leo&submit=submit+id) published in [Gallenne et al. (2023)](https://ui.adsabs.harvard.edu/abs/2023A%26A...672A.119G/abstract). The spectroscopic binary is a SB2, which means both components' lines are seen in the spectra. The 2023 publication only reports on the multi-epochs astrometric measurements (i.e. relative position). In this tutorial, we will go a bit further and model the spectroscopic brackett $\\gamma$ line and compare the velocity derived from GRAVITY with the orbital fit to high-resolution spectroscopy. In details, we will:\n",
    "- [Load and display data](#load)\n",
    "- [Correct the spectrum for telluric absorption](#tellurics)\n",
    "- [Find the separation vector, using spectraly-binned data and a grid search](#grid)\n",
    "- [Add spectroscopic lines to the binary model to measure the orbital velocity](#brackettgamma)\n",
    "- [Analyse all epochs, saving sessions for each epoch](#allepochs)\n",
    "- [Compare orbit with original publication](#orbit)"
   ]
  },
  {
   "cell_type": "code",
   "execution_count": null,
   "id": "9df046b2-817f-416c-87bb-607f7ad8303b",
   "metadata": {
    "execution": {
     "iopub.execute_input": "2024-04-09T09:10:10.764002Z",
     "iopub.status.busy": "2024-04-09T09:10:10.763609Z",
     "iopub.status.idle": "2024-04-09T09:10:15.244452Z",
     "shell.execute_reply": "2024-04-09T09:10:15.243335Z"
    }
   },
   "outputs": [],
   "source": [
    "# -- uncomment to get interactive plots\n",
    "#%matplotlib widget\n",
    "import os\n",
    "import numpy as np\n",
    "import matplotlib\n",
    "import matplotlib.pyplot as plt\n",
    "import pickle\n",
    "\n",
    "import pmoired\n",
    "from pmoired import tellcorr\n",
    "\n",
    "# -- in case you want to limit the number of cores for the multiprocessing functions\n",
    "# -- will take all CPUs otherwise! \n",
    "# pmoired.MAX_THREADS = 8 \n",
    "print('will use', pmoired.MAX_THREADS, 'CPUs for multiprocessing')"
   ]
  },
  {
   "cell_type": "markdown",
   "id": "54c98c87-61e4-4eed-8aaf-d1dfbb96514e",
   "metadata": {},
   "source": [
    "# Initial loading and displaying data <a id='load'></a>\n",
    "\n",
    "GRAVITY files contain at least 2 \"instruments\": the fringe tracker (`GRAVITY_FT`) and the science spectrograph (`GRAVITY_SC`). This is why we need to indicate which instrument to load. Otherwise, all instruments are loaded by default. If you need to load data taken with the polarisation mode, use:\n",
    "```\n",
    ">>> oi = pmoired.OI(filename, insname='GRAVITY_SC_P1')\n",
    ">>> oi.addData(filename, insname='GRAVITY_SC_P2')\n",
    "```\n",
    "\n",
    "Because of the large number of spectral channels, the data are shown in \"spectral\" mode: this is very practical when inspecting/modeling spectral lines. We can see strong non-0 closure phase, as well as visibility which depends both on the length and orientation of the baselines. This can be better seen by plotting data as function of spatial frequency (B/$\\lambda$), by using `oi.show(spectro=False)`.\n",
    "\n",
    "In the FLUX window: it has a lot of features, but most of them are none astrophysical:\n",
    "- the flux still contains the instrumental transmission (e.g. the drop in transmission around $\\lambda$=2.2$\\mu$m is due to the silicate fibers). This can be automatically corrected using the option `flat-flux=true` while reducing the data. We can check with `oi.getESOPipelineParams()` that it was not the case (if you want to access the parameters of the recipes, they are in `oi.data[0]['recipes']` for the first data file and so one)\n",
    "- There are a lot of telluric features which appear as many fine lines, mostly in absorption. `PMOIRED` contains a telluric correction routine for GRAVITY data, based on a [HITRAN](https://www.eso.org/sci/publications/messenger/archive/no.142-dec10/messenger-no142-21-24.pdf) models, the same used in the much more compete ESO tool [Molecfit](http://www.eso.org/sci/software/pipelines/skytools/molecfit).\n",
    "\n",
    "The tellurics do not affect the interferometric quantities (visibilities, phases, etc.). If you do *not* use the spectrum, it is not necessary to correct for tellurics!\n",
    "\n",
    "_Here we load data without telluric correction (`tellurics=False` in `pmoired.OI`), which has already been computed, below we explain how this is done. In general, omit this option which is here only for the sake of demonstration!_"
   ]
  },
  {
   "cell_type": "code",
   "execution_count": null,
   "id": "60ef230a-3d09-423c-a955-9b98a2c8fe50",
   "metadata": {
    "execution": {
     "iopub.execute_input": "2024-04-09T09:10:15.250273Z",
     "iopub.status.busy": "2024-04-09T09:10:15.249666Z",
     "iopub.status.idle": "2024-04-09T09:10:26.906022Z",
     "shell.execute_reply": "2024-04-09T09:10:26.903076Z"
    }
   },
   "outputs": [],
   "source": [
    "d = '../DATA/o_Leo/'\n",
    "files = sorted([os.path.join(d, f) for f in os.listdir(d) if f.endswith('calibrated.fits')])\n",
    "oi = pmoired.OI(files[0], insname='GRAVITY_SC', tellurics=False)\n",
    "oi.show()"
   ]
  },
  {
   "cell_type": "code",
   "execution_count": null,
   "id": "5693b64a-89b8-4943-90c2-f8485c5f234e",
   "metadata": {
    "execution": {
     "iopub.execute_input": "2024-04-09T09:10:26.913951Z",
     "iopub.status.busy": "2024-04-09T09:10:26.913290Z",
     "iopub.status.idle": "2024-04-09T09:10:26.943897Z",
     "shell.execute_reply": "2024-04-09T09:10:26.942368Z"
    }
   },
   "outputs": [],
   "source": [
    "oi.getESOPipelineParams()"
   ]
  },
  {
   "cell_type": "markdown",
   "id": "1e166563-693c-4f53-8b41-90a10874256e",
   "metadata": {},
   "source": [
    "# Correcting for tellurics Lines <a id='tellurics'></a>\n",
    "\n",
    "`PMOIRED` library `tellcorr` allows a simple telluric correction for GRAVITY data. It is not as complete as [Molecfit](http://www.eso.org/sci/software/pipelines/skytools/molecfit) which performs a fit of all molecular species in the Earth's atmosphere, here we just interpolate in a 1D grid of models parametrised by the precipitable water vapour. The function `gravity` also need to fit the continuum shape and a refined spectral dispersion model. Thanks to this, [Gallenne et al. (2023)](https://ui.adsabs.harvard.edu/abs/2023A%26A...672A.119G/abstract) showed that the original spectral calibration of GRAVITY_HR is accurate to 0.02%.\n",
    "\n",
    "The telluric model is written in the OIFITS files as an additional extension (`TELLURICS`) which contains the telluric model, the corrected spectra as well as the calibrated spectral dispersion model. The header of the `TELLURICS` extension contains a keyword `PWV` which is the fitted precipitable water vapour (in mm). The columns are:\n",
    "* 'EFF_WAVE'  ; format = 'D'; unit = 'm' -> wavelength as listed in the original file\n",
    "* 'RAW_SPEC'  ; format = 'D' -> spectrum, weighted mean of the telescopes \n",
    "* 'TELL_TRANS'; format = 'D' -> adjusted telluric transmission\n",
    "* 'CORR_SPEC' ; format = 'D' -> corrected spectrum (i.e. removing the tellurics, but not the continuum)\n",
    "* 'CORR_WAVE' ; format = 'D'; unit = 'm' -> fitted wavelength table\n",
    "* 'CORR_CONT' ; format = 'D' -> crude continuum model, fitted using splines \n",
    "\n",
    "Functions in library `tellcorr`:\n",
    "- `gravity` to correct GRAVITY files\n",
    "- `showTellurics` to show the model applied to a given file\n",
    "- `removeTellurics` to remove the FITS `TELLURICS` extension in the file\n",
    "\n",
    "_This computation for all epochs is quite long, even though it is parallelised. For convenience, data for the tutorial are provided with telluric correction computed because there are no parameters to adjust by users..._"
   ]
  },
  {
   "cell_type": "code",
   "execution_count": null,
   "id": "e708d921-b744-4dee-8e41-b596a5b43419",
   "metadata": {
    "execution": {
     "iopub.execute_input": "2024-04-09T09:10:26.951921Z",
     "iopub.status.busy": "2024-04-09T09:10:26.950967Z",
     "iopub.status.idle": "2024-04-09T09:13:34.955266Z",
     "shell.execute_reply": "2024-04-09T09:13:34.953867Z"
    }
   },
   "outputs": [],
   "source": [
    "from multiprocessing import Pool\n",
    "\n",
    "# -- remove tellurics\n",
    "with Pool(pmoired.MAX_THREADS) as p:\n",
    "    p.map(tellcorr.removeTellurics, files[:1])\n",
    "\n",
    "# -- (re)compute tellurics\n",
    "with Pool(pmoired.MAX_THREADS) as p:\n",
    "    p.map(tellcorr.gravity, files[:1])"
   ]
  },
  {
   "cell_type": "code",
   "execution_count": null,
   "id": "35596745-2454-45aa-a72c-4694247f0352",
   "metadata": {
    "execution": {
     "iopub.execute_input": "2024-04-09T09:13:34.960419Z",
     "iopub.status.busy": "2024-04-09T09:13:34.959958Z",
     "iopub.status.idle": "2024-04-09T09:13:35.771888Z",
     "shell.execute_reply": "2024-04-09T09:13:35.770815Z"
    }
   },
   "outputs": [],
   "source": [
    "tellcorr.showTellurics(files[0], fig=100)"
   ]
  },
  {
   "cell_type": "markdown",
   "id": "914d1267-b9b8-4f9d-9bc8-d52c5d5951f0",
   "metadata": {},
   "source": [
    "## Reloading data\n",
    "\n",
    "From now on, `PMOIRED` will automatically take into account the telluric correction: if you want to use the tellurics wavelength calibration, you need to specify `useTelluricsWL=True`. This is not necessary as the GRAVITY spectral calibration is accurate to ~0.02% in HR.\n",
    "\n",
    "To make sure the tellurics are taken into account, you can see in the text output, at the end of the line: `TELL: True pwv=3.18mm`.\n",
    "\n",
    "_Note that the corrected spectrum still shows the continuum (dominated by the instrumental signature): the continnum is fitted only when using a model which has explicit spectral lines._"
   ]
  },
  {
   "cell_type": "code",
   "execution_count": null,
   "id": "c9d38ff5-94db-4263-97a2-7f9e5468fc0e",
   "metadata": {
    "execution": {
     "iopub.execute_input": "2024-04-09T09:13:35.777840Z",
     "iopub.status.busy": "2024-04-09T09:13:35.777452Z",
     "iopub.status.idle": "2024-04-09T09:13:35.928690Z",
     "shell.execute_reply": "2024-04-09T09:13:35.927679Z"
    }
   },
   "outputs": [],
   "source": [
    "oi = pmoired.OI(files[0], insname='GRAVITY_SC')"
   ]
  },
  {
   "cell_type": "code",
   "execution_count": null,
   "id": "da002531-76dc-4049-9a37-573bc5e37769",
   "metadata": {
    "execution": {
     "iopub.execute_input": "2024-04-09T09:13:35.932795Z",
     "iopub.status.busy": "2024-04-09T09:13:35.932445Z",
     "iopub.status.idle": "2024-04-09T09:13:39.324732Z",
     "shell.execute_reply": "2024-04-09T09:13:39.323721Z"
    }
   },
   "outputs": [],
   "source": [
    "oi.show()"
   ]
  },
  {
   "cell_type": "markdown",
   "id": "be0db223-f3b2-485b-9c59-aa780f992b30",
   "metadata": {},
   "source": [
    "# Grid search to find binary separation <a id='grid'></a>\n",
    "\n",
    "We already know that the system is a binary (from spectroscopy), but we can learn a little bit more by looking at the GRAVITY data:\n",
    "- The visibility of a binary system composed of two unresolved stars $A$ and $B$ will vary between 1 and $(f_A-f_B)/(f_A+f_B)$ if $f_A$ is the flux of the primary (the brightest component) and $f_B$ the flux of the secondary. We see that $|V|$ reaches a minimum of 0.5 (for baseline J2A0 and J3J2), indicating that $f_B/f_A\\approx0.3$\n",
    "- The visibility of the binary is a sinusoidal wave $sin(2\\pi \\vec{B}.\\vec{S}/\\lambda)$ where $\\vec{B}$ is the projected baseline and $\\vec{S}$ the separation vector. For our data, we do not see a full cycle of the visibility, so $|\\vec{B}.\\vec{S}/\\lambda_{min} - \\vec{B}.\\vec{S}/\\lambda_{max}|<<1$, which leads to $S\\lesssim\\frac{\\lambda^2}{B(\\lambda_{max}-\\lambda_{min})}=25mas$ (assuming B$\\approx$100m).\n",
    "\n",
    "To find the best fit model, we use a simple binary model with 2 unresolved stars (`'ud':0.1`). By default, the flux and position of `A` is assumed to be 1 and (0,0) respectively. Because we do not need the full spectral resolution, we can bin the data spectrally to make the calculations faster (`binning=20` in `pmoired.OI`).\n",
    "\n",
    "`oi.gridFit` takes parameters an exploration pattern an first parameter (see `?oi.gridfit`) which describes how the parameters will be explored. This can be done via a grid, or randomisation (uniform or normal). In case no grid is defined, then the number of randomisation `Nfits` needs to be defined. We can also use priors and constraints on the parameters: priors apply to the model even during the fit, whereas constraints apply to the initial conditions only. Finally, we can omit some parameters in the fit: here the sizes of the components, which we set to be unresolved ($<<\\lambda_\\mathrm{min}/B_\\mathrm{max}$).\n",
    "\n",
    "`oi.showGrid` shows the result of grid search:\n",
    "- '+' and 'x' are the location of the initial guesses: gray '+' means the fit was successful; red 'x' means the fit was not sucessful (i.e. did not converge properly).\n",
    "- the coloured dots are the final fits. Notes that several inital conditions converge to the same best fit model. The colour of the dot reflects the final $\\chi_{red}^2$, and the circled one if the global minimum\n",
    "- Some useful options: `interpolate=True` show an image of the interpplated surface of the minima $\\chi_{red}^2$; `logV=True` plot the $\\chi_{red}^2$ in log scale.  "
   ]
  },
  {
   "cell_type": "code",
   "execution_count": null,
   "id": "c6e11fcf-e183-4e8d-b144-079f1f03e0dc",
   "metadata": {
    "execution": {
     "iopub.execute_input": "2024-04-09T09:13:39.329590Z",
     "iopub.status.busy": "2024-04-09T09:13:39.329161Z",
     "iopub.status.idle": "2024-04-09T09:13:39.384563Z",
     "shell.execute_reply": "2024-04-09T09:13:39.383755Z"
    }
   },
   "outputs": [],
   "source": [
    "?oi.gridFit"
   ]
  },
  {
   "cell_type": "code",
   "execution_count": null,
   "id": "6886aeac-eed7-4325-b027-2456733b10b2",
   "metadata": {
    "execution": {
     "iopub.execute_input": "2024-04-09T09:13:39.388906Z",
     "iopub.status.busy": "2024-04-09T09:13:39.388556Z",
     "iopub.status.idle": "2024-04-09T09:13:59.983839Z",
     "shell.execute_reply": "2024-04-09T09:13:59.982934Z"
    }
   },
   "outputs": [],
   "source": [
    "oi = pmoired.OI(files[0], insname='GRAVITY_SC', binning=20)\n",
    "oi.setupFit({'obs':['|V|', 'T3PHI']})\n",
    "\n",
    "# -- initial model. A: primary and B:secondary\n",
    "m = {'A,ud':0.1, \n",
    "     'B,ud':0.1, \n",
    "     'B,x':3, # value not important, will be updated by gridFit\n",
    "     'B,y':3, # value not important, will be updated by gridFit\n",
    "     'B,f':0.6, \n",
    "    }\n",
    "\n",
    "maxSep = 12 # maximum separation in mas\n",
    "step = 1.5 # step for the search in mas, ~ 0.5 * lambda_min / B_max\n",
    "\n",
    "expl = {'grid':{'B,x':(-maxSep, maxSep, step), \n",
    "                'B,y':(-maxSep, maxSep, step)}\n",
    "       }\n",
    "# -- the secondary flux must be lower than the primary, which is 1 by default \n",
    "prior = [('B,f', '<', 1)]\n",
    "\n",
    "# -- this applies to the grid of initial parameters, not to the fit\n",
    "constrain = [('np.sqrt(B,x**2+B,y**2)', '>', step), \n",
    "             ('np.sqrt(B,x**2+B,y**2)', '<', maxSep)]\n",
    "\n",
    "# -- this is parallelised\n",
    "oi.gridFit(expl, model=m, doNotFit=['A,ud', 'B,ud'], prior=prior, constrain=constrain)\n",
    "\n",
    "# -- show the grid result\n",
    "oi.showGrid(interpolate=True, logV=1, cmap='gist_stern')\n",
    "\n",
    "# -- show the data and the best fit model\n",
    "oi.show()\n"
   ]
  },
  {
   "cell_type": "markdown",
   "id": "9d541964-d0e1-4bcd-865f-08c12e751bab",
   "metadata": {},
   "source": [
    "## best fit model from the grid search\n",
    "\n",
    "we can see that the model is not perfect and tends to somewhat over estimate the visibility: this could be due to the fact the star are actually partially resolved. We can try to re-fit the model but allowing all the parameters to be fitted, including the sizes of the stars, by setting `doNotFit=[]` in `oi.doFit`. By default, if no initial parameters are give to `doFit`, it will use the last best fit model (the one found by `gridFit` above). \n",
    "\n",
    "When we show the model, we can also show a synthetic image by giving a field-of-view `imFov` (in mas) for the image (you can give the centre as `imX` and `imY`, in mas)."
   ]
  },
  {
   "cell_type": "code",
   "execution_count": null,
   "id": "c3c2b35c-2060-4b61-8de9-d2a9d6224840",
   "metadata": {
    "execution": {
     "iopub.execute_input": "2024-04-09T09:13:59.988244Z",
     "iopub.status.busy": "2024-04-09T09:13:59.987830Z",
     "iopub.status.idle": "2024-04-09T09:14:03.084865Z",
     "shell.execute_reply": "2024-04-09T09:14:03.083911Z"
    }
   },
   "outputs": [],
   "source": [
    "oi.doFit(doNotFit=[])\n",
    "oi.show(imFov=8, imX=oi.bestfit['best']['B,x']/2, imY=oi.bestfit['best']['B,y']/2)"
   ]
  },
  {
   "cell_type": "markdown",
   "id": "f5c1ff8d-f02f-4fb9-85d4-d75eb0bd53ad",
   "metadata": {},
   "source": [
    "## bootstrapping to estimate the uncertainties\n",
    "\n",
    "[Bootstrapping](https://en.wikipedia.org/wiki/Bootstrapping_(statistics)) is a data resampling method to better estimate uncertainties: many fits are ran where some data are randomly ignored whereas some other are taken into account several times. The data \"unit\" in `PMOIRED` is one spectral vector of one observable for one telescopes configuration. Data tend to be spectrally correlated, as they are taken all at the same time, from the same telescopes etc. `oi.bootstrapFit` takes at least one parameter `Nfits` the number of fits to perform. If ommited, it will use the number of unique spectral vectors. Note that all parameters of the fit are the same as the last fit you ran: \n",
    "- the initial parameters are the last best solution found\n",
    "- the other parameters, such as `doNotFit`, `prior` etc. are kept as well\n",
    "\n",
    "`oi.showBootstrap` shows a corner plot with all fitted parameters. Often, the uncertainities from bootstrapping are larger than the one from a single fit: this is because a single fit assumes all uncertainites in the data are uncorrelated, which is not true in practice. `PMOIRED` bootstrapping sampling (by spectral vector) makes it very clear. In practice, uncertainties by bootstrapping should be prefered, even though it can be time consuming to estimate them. \n",
    "\n",
    "Note that uncertainites in the fit *do not* take into account some sources. For instance, dimensions such as `A,ud`, `B,ud`, `B,x` and `B,y` are known as good as the baseline and spectral calibration of the instrument is. This scaling factor affects all data the same, and need to be properly into account while fitting orbital parameters (see [Gallenne et al. 2023](https://ui.adsabs.harvard.edu/abs/2023A%26A...672A.119G/abstract) for an proper discussion)."
   ]
  },
  {
   "cell_type": "code",
   "execution_count": null,
   "id": "d4e05be2-a060-4049-bf70-c0d1b6a3feab",
   "metadata": {
    "execution": {
     "iopub.execute_input": "2024-04-09T09:14:03.089592Z",
     "iopub.status.busy": "2024-04-09T09:14:03.089144Z",
     "iopub.status.idle": "2024-04-09T09:14:30.403008Z",
     "shell.execute_reply": "2024-04-09T09:14:30.402087Z"
    }
   },
   "outputs": [],
   "source": [
    "oi.bootstrapFit(Nfits=500)"
   ]
  },
  {
   "cell_type": "code",
   "execution_count": null,
   "id": "85784443-b0ca-410d-974c-ab083929e2b8",
   "metadata": {
    "execution": {
     "iopub.execute_input": "2024-04-09T09:14:30.408250Z",
     "iopub.status.busy": "2024-04-09T09:14:30.407811Z",
     "iopub.status.idle": "2024-04-09T09:14:32.517818Z",
     "shell.execute_reply": "2024-04-09T09:14:32.517048Z"
    }
   },
   "outputs": [],
   "source": [
    "oi.showBootstrap()"
   ]
  },
  {
   "cell_type": "markdown",
   "id": "de59c537-3506-4cc0-ade7-9c8ceca8b538",
   "metadata": {},
   "source": [
    "# Modeling the Brackett $\\gamma$ spectral features <a id='brackettgamma'></a>\n",
    "\n",
    "The binary is composed of intermediate mass main sequence stars. As such, they show hydrogen absorption features in their spectrum, which shows up in GRAVITY data for the Brackett $\\gamma$ line around $\\lambda\\sim$2.166$\\mu$m. In `oi.setupFit`, we can give a list of wavelength ranges ($\\lambda_\\mathrm{min}$, $\\lambda_\\mathrm{max}$) to be considered. Strictly speaking, one does not need to reduce the data ranges but this helps the analysis by:\n",
    "- showing only data around the considered spectral feature\n",
    "- balance the amount of data in the continuum vs. in the spectral feature. If too much continuum is used, then the fit of the spectral feature might not work as it does not affect the $\\chi^2$ enough.\n",
    "\n",
    "To add a spectral line to a `PMOIRED` model, one should use parameters (where `?` can by any string, which allows to define several lines for a given component): \n",
    "\n",
    "- `line_?_wl0`: the central wavelength in $\\mu$m\n",
    "- `line_?_gaussian` or `line_?_lorentzian`: the full width at half maximum (FWHM), in $nm$ (not $\\mu$m!!!) for a Gaussian or Lorentzian profiles. \n",
    "- `line_?_f` the peak amplitude of the line, <0 for absorption lines and >0 for emission lines\n",
    "\n",
    "Since we are going to consider spectral lines, we can now fit differential/normalise quantities. \n",
    "- `DPHI` is the differential phase, i.e. the visibility's phase minus the continum value.\n",
    "- `NFLUX` is the normalised flux, i.e. the flux divided by the continuum. \n",
    "\n",
    "Concerning the fitting strategy:\n",
    "- it is recommended to add a prior on the line FWHM, as a very narrow line will produce no variation of $\\chi^2$, rendering the fit incensitive to the line.\n",
    "- Conversly, since `PMOIRED` defines the continuum is outside all the lines described in the model, very broad and weak lines will result in no continuum left.\n",
    "- usually, the central wavelength as a very small uncertainty compared to its value, which results in a warning that the parameter might not converge properly: it just takes very long. \n",
    "- in `oi.setupFit`, one can define the polynomial order to fit the continuum. the default is 1 for all observable. Here we set to 2 for the `NFLUX` as the continuum is strongly affected by the instrumental response. "
   ]
  },
  {
   "cell_type": "code",
   "execution_count": null,
   "id": "da05e44e-bdd4-4e5b-a30f-5b9987d3b014",
   "metadata": {
    "execution": {
     "iopub.execute_input": "2024-04-09T09:14:32.522139Z",
     "iopub.status.busy": "2024-04-09T09:14:32.521716Z",
     "iopub.status.idle": "2024-04-09T09:14:39.905110Z",
     "shell.execute_reply": "2024-04-09T09:14:39.904129Z"
    }
   },
   "outputs": [],
   "source": [
    "# -- reload data with full spectral resolution\n",
    "oi = pmoired.OI(files[0], insname='GRAVITY_SC')\n",
    "# -- limit to wavelength range around BrG, use 2rd order polynomial for flux continuum fit\n",
    "oi.setupFit({'obs':['|V|', 'T3PHI', 'NFLUX', 'DPHI'],\n",
    "            'wl ranges':[(2.166-0.025, 2.166+0.025)],\n",
    "            'NFLUX order':2, \n",
    "            })\n",
    "\n",
    "# -- previous best fit for first epoch, copy/pasted\n",
    "model = {'A,ud':1.2558, # +/- 0.0020\n",
    "        'B,f': 0.25363, # +/- 0.00039\n",
    "        'B,ud':0.666, # +/- 0.014\n",
    "        'B,x': -0.9190, # +/- 0.0010\n",
    "        'B,y': 3.5532, # +/- 0.0029\n",
    "        }\n",
    "\n",
    "# -- add spectral lines to 'A' and 'B'\n",
    "model.update(\n",
    "  {'A,line_brg_wl0':2.166,\n",
    "  'A,line_brg_f':-0.5,\n",
    "  'A,line_brg_lorentzian':1.0,   \n",
    "  'B,line_brg_wl0':2.166,\n",
    "  'B,line_brg_f':-0.3,\n",
    "  'B,line_brg_lorentzian':1.0,          \n",
    "  })\n",
    "\n",
    "# -- set priors to the lines FWHM to make sure the fit converges properly\n",
    "prior = [('A,line_brg_lorentzian', '>', 0.5),\n",
    "         ('A,line_brg_lorentzian', '<', 3),\n",
    "         ('B,line_brg_lorentzian', '>', 0.5),\n",
    "         ('B,line_brg_lorentzian', '<', 3),\n",
    "        ]\n",
    "\n",
    "oi.doFit(model, prior=prior)\n",
    "\n",
    "oi.show(imFov=8, imX=oi.bestfit['best']['B,x']/2, imY=oi.bestfit['best']['B,y']/2)"
   ]
  },
  {
   "cell_type": "markdown",
   "id": "d58d7670-b5a2-469e-bb12-f042b2d6a618",
   "metadata": {},
   "source": [
    "## Re-parametrisation of the wavelength\n",
    "\n",
    "In the previous fit, we get a warning because the wavelength of the line may not be converging properly. `oi.showFit` shows the evolution of the parameters during the fit: both `line_brg_wl0` for `A` and `B` show little spikes in $\\chi^2$, showing that the parameters varies too much. In essence, the gradient descent has trouble fitting a parameter which uncertainty is much smaller that its value (we have typically err/value$\\sim$5e-6 for `A,line_brg_wl0`).\n",
    "\n",
    "To mitigate this, we can re-parametrise the central wavelengths as Doppler shift to the rest wavelength of Brackett $\\gamma$. This has also the advantage to give us the radial velocity of each star, which are expected to vary epoch to epoch due to the orbital motion. The fit is much faster to converge, as err/value$\\sim$1.7e-2 for `vA`."
   ]
  },
  {
   "cell_type": "code",
   "execution_count": null,
   "id": "6101c265-fad1-4561-8ca4-f4e1c69a2030",
   "metadata": {
    "execution": {
     "iopub.execute_input": "2024-04-09T09:14:39.909722Z",
     "iopub.status.busy": "2024-04-09T09:14:39.909322Z",
     "iopub.status.idle": "2024-04-09T09:14:41.272317Z",
     "shell.execute_reply": "2024-04-09T09:14:41.271572Z"
    }
   },
   "outputs": [],
   "source": [
    "oi.showFit()"
   ]
  },
  {
   "cell_type": "code",
   "execution_count": null,
   "id": "e6f18c77-7e11-42e9-a122-88da0ed56264",
   "metadata": {
    "execution": {
     "iopub.execute_input": "2024-04-09T09:14:41.276637Z",
     "iopub.status.busy": "2024-04-09T09:14:41.276189Z",
     "iopub.status.idle": "2024-04-09T09:14:46.769414Z",
     "shell.execute_reply": "2024-04-09T09:14:46.768594Z"
    }
   },
   "outputs": [],
   "source": [
    "# -- previous best fit, copy/pasted\n",
    "model = oi.bestfit['best']\n",
    "\n",
    "# -- Brackett Gamma line wavelength from NIST (microns)\n",
    "BrG = 2.1661178 \n",
    "\n",
    "# -- reparametrisation with velocity in km/s\n",
    "model.update(\n",
    "  {'A,line_brg_wl0':       '%.5f*(1+$vA/2.998e5)'%BrG, \n",
    "  'vA':20, \n",
    "  'B,line_brg_wl0':       '%.5f*(1+$vB/2.998e5)'%BrG, \n",
    "  'vB':-20, })\n",
    "\n",
    "prior = [('A,line_brg_lorentzian', '>', 0.5),\n",
    "         ('A,line_brg_lorentzian', '<', 3),\n",
    "         ('B,line_brg_lorentzian', '>', 0.5),\n",
    "         ('B,line_brg_lorentzian', '<', 3),\n",
    "        ]\n",
    "\n",
    "oi.doFit(model, prior=prior)\n",
    "\n",
    "oi.show(imFov=8, imX=oi.bestfit['best']['B,x']/2, imY=oi.bestfit['best']['B,y']/2)"
   ]
  },
  {
   "cell_type": "code",
   "execution_count": null,
   "id": "8352349e-be44-4b7b-9e7c-b7efa5109405",
   "metadata": {
    "execution": {
     "iopub.execute_input": "2024-04-09T09:14:46.773794Z",
     "iopub.status.busy": "2024-04-09T09:14:46.773333Z",
     "iopub.status.idle": "2024-04-09T09:15:47.775829Z",
     "shell.execute_reply": "2024-04-09T09:15:47.774845Z"
    }
   },
   "outputs": [],
   "source": [
    "oi.bootstrapFit(Nfits=100)"
   ]
  },
  {
   "cell_type": "code",
   "execution_count": null,
   "id": "2ea5cd53-b217-47aa-9bad-c618413a96c2",
   "metadata": {
    "execution": {
     "iopub.execute_input": "2024-04-09T09:15:47.779885Z",
     "iopub.status.busy": "2024-04-09T09:15:47.779456Z",
     "iopub.status.idle": "2024-04-09T09:15:55.041793Z",
     "shell.execute_reply": "2024-04-09T09:15:55.040679Z"
    }
   },
   "outputs": [],
   "source": [
    "oi.showBootstrap()"
   ]
  },
  {
   "cell_type": "markdown",
   "id": "0b53c8bf-c503-4da2-a3bd-bfc87a6d42bf",
   "metadata": {},
   "source": [
    "# Analysing all epochs <a id='allepochs'></a>\n",
    "\n",
    "From the single epoch analysis above, we analyse all the epochs:\n",
    "1) grid search for binary separation and velocity: a regular grid is used for the separation and the velocities are randomised.\n",
    "2) all parameters are fitted initialising on the best separation and best velocities from the grid\n",
    "3) Bootstrapping for final uncertainties\n",
    "4) saving the analysis as a `PMOIRED` binary file\n",
    "5) saving all models, including the barycentric correction (to take into accout Earth velocity around the Sun), which is computed by `PMOIRED`\n",
    "\n",
    "_Warning_: this takes a minute or two for each epoch! the binary files with parameters is provided in case this is tool long, so you can jump to the [next section](#orbit)"
   ]
  },
  {
   "cell_type": "code",
   "execution_count": null,
   "id": "6e1d242a-78c7-4b69-aed4-02d578f28fb5",
   "metadata": {
    "execution": {
     "iopub.execute_input": "2024-04-09T09:15:55.047706Z",
     "iopub.status.busy": "2024-04-09T09:15:55.047060Z",
     "iopub.status.idle": "2024-04-09T09:25:50.248746Z",
     "shell.execute_reply": "2024-04-09T09:25:50.247233Z"
    }
   },
   "outputs": [],
   "source": [
    "RES = {} # fits to all epochs, keyed in MJD\n",
    "\n",
    "for i,f in enumerate(files):\n",
    "  print('#'*7, 'epoch', i+1, 'of', len(files), '#'*27)\n",
    "  # -- best model from single epoch analysis above\n",
    "  model = {'A,line_brg_f':         -0.2484, # +/- 0.0048\n",
    "    'A,line_brg_lorentzian':0.873, # +/- 0.029\n",
    "    'A,ud':                 1.2648, # +/- 0.0030\n",
    "    'B,f':                  0.25193, # +/- 0.00067\n",
    "    'B,line_brg_f':         -0.0538, # +/- 0.0014\n",
    "    'B,line_brg_gaussian':  2.286, # +/- 0.095\n",
    "    'B,ud':                 0.763, # +/- 0.021\n",
    "    'B,x':                  0, \n",
    "    'B,y':                  0, \n",
    "    'vA':                   20, # \n",
    "    'vB':                   20, # \n",
    "    'A,line_brg_wl0':       '2.16612*(1+$vA/2.998e5)',\n",
    "    'B,line_brg_wl0':       '2.16612*(1+$vB/2.998e5)',\n",
    "    }\n",
    "  # -- load data \n",
    "  tmp = pmoired.OI(f, insname='GRAVITY_SC')\n",
    "  # -- limit to wavelength range around BrG\n",
    "  tmp.setupFit({'obs':['|V|', 'T3PHI', 'NFLUX', 'DPHI'],\n",
    "               'wl ranges':[(2.166-0.025, 2.166+0.025)],\n",
    "               'NFLUX order':2, \n",
    "               })\n",
    "  # -- the secondary's flux must be lower than the primary, which is 1 by default \n",
    "  prior = [('B,f', '<', 1),\n",
    "           ('A,line_brg_lorentzian', '>', 0.5),\n",
    "           ('A,line_brg_lorentzian', '<', 3),\n",
    "           ('B,line_brg_gaussian', '>', 0.5),\n",
    "           ('B,line_brg_gaussian', '<', 3),\n",
    "          ]\n",
    "  maxSep = 5\n",
    "  step = 1.5\n",
    "  constrain = [('np.sqrt(B,x**2+B,y**2)', '>', step), \n",
    "               ('np.sqrt(B,x**2+B,y**2)', '<', maxSep)]\n",
    "  \n",
    "  expl = {'grid':{'B,x':(-maxSep, maxSep, step), \n",
    "                  'B,y':(-maxSep, maxSep, step)},\n",
    "          'rand':{'vA':(-40, 40), \n",
    "                  'vB':(-40, 40)}\n",
    "         }\n",
    "\n",
    "  # -- grid-find position and velocity\n",
    "  tmp.gridFit(expl, model=model, fitOnly=['B,x', 'B,y', 'vA', 'vB'],\n",
    "             prior=prior, constrain=constrain, verbose=0)\n",
    "  \n",
    "  # -- fit all parameters around best model from grid\n",
    "  tmp.doFit(doNotFit=[], prior=prior, verbose=0) \n",
    "\n",
    "  # -- bootstrap fit\n",
    "  tmp.bootstrapFit(Nfits=100, verbose=0)\n",
    "\n",
    "  # -- saving result\n",
    "  tmp.save(os.path.join('../DATA/o_Leo', 'oLeo_'+f.split('GRAVI.')[1].split('_')[0]), overwrite=True)\n",
    "  \n",
    "  # -- average epoch of the observation\n",
    "  MJD = np.mean([np.mean(d['MJD']) for d in tmp.data])\n",
    "    \n",
    "  # -- save result: best fit, uncertainites and correlations from bootstrapping\n",
    "  RES[MJD] = {k:tmp.boot[k] for k in ['best', 'uncer', 'covd']}\n",
    "  # -- average barycentric correction (km/s)\n",
    "  RES[MJD]['barycorr_km/s'] = np.mean([np.mean(d['barycorr_km/s']) for d in tmp.data])\n",
    "\n",
    "# -- saving results in binary file\n",
    "with open(os.path.join('../DATA/o_Leo','oLeo_models_allEpochs.dpy'), 'wb') as f:\n",
    "  pickle.dump(RES, f)"
   ]
  },
  {
   "cell_type": "markdown",
   "id": "8c2e9725-c611-4815-bfc2-4727c6dd4e6f",
   "metadata": {},
   "source": [
    "## Reloading one of the epoch\n",
    "\n",
    "Only available if you ran the cell above (analysing all epochs)"
   ]
  },
  {
   "cell_type": "code",
   "execution_count": null,
   "id": "1a6f4694-1722-4f9c-b453-268c905aac01",
   "metadata": {
    "execution": {
     "iopub.execute_input": "2024-04-09T09:25:50.255646Z",
     "iopub.status.busy": "2024-04-09T09:25:50.255264Z",
     "iopub.status.idle": "2024-04-09T09:26:00.859164Z",
     "shell.execute_reply": "2024-04-09T09:26:00.858415Z"
    }
   },
   "outputs": [],
   "source": [
    "filesb = list(filter(lambda x: x.endswith('.pmrd'), os.listdir('../DATA/o_Leo')))\n",
    "display(filesb)\n",
    "if len(filesb)>0:\n",
    "    filesb = sorted([os.path.join('../DATA/o_Leo', f) for f in filesb])\n",
    "    tmp = pmoired.OI(filesb[-1])\n",
    "    tmp.fig=50\n",
    "    tmp.showBootstrap()\n",
    "    tmp.showBestfit()\n",
    "    tmp.show(imFov=10)"
   ]
  },
  {
   "cell_type": "markdown",
   "id": "f471ab23-bc8a-4ce2-9120-b1e0f03f64c4",
   "metadata": {},
   "source": [
    "# Orbital parameters <a id='orbit'></a>\n",
    "\n",
    "We finally take all the epochs together and compare the orbital fit to the one in [Gallenne et al. (2023)](https://ui.adsabs.harvard.edu/abs/2023A%26A...672A.119G/abstract), who used UVES radial velocities and not the ones from GRAVITY: the former are much more precise than the later, as UVES has much higher spectral resolution than GRAVITY. \n",
    "\n",
    "The plot is to be compared with the bottom panels of [Gallenne et al. (2023), figure 4](https://www.aanda.org/articles/aa/full_html/2023/04/aa45712-22/F4.html). \n",
    "\n",
    "There is an option to fit our own orbital parameters, but they are quite unreliable as our radial velocities are quite noisy for the secondary `B`.\n",
    "\n",
    "$\\omicron$~Leo was also observed by [Hummel et al. (2001)](https://ui.adsabs.harvard.edu/abs/2001AJ....121.1623H/abstract) using the interferometer NPOI. The GRAVITY orbit can be compared to [fig. 10](https://iopscience.iop.org/article/10.1086/319391/fulltext/fg10.h.gif?doi=10.1086/319391) of this paper. Note that the uncertainties of GRAVITY are much smaller than the ones from NPOI. "
   ]
  },
  {
   "cell_type": "code",
   "execution_count": null,
   "id": "d8d2637d-358c-4e18-95d0-7787bac6ec5f",
   "metadata": {
    "execution": {
     "iopub.execute_input": "2024-04-09T09:26:00.863447Z",
     "iopub.status.busy": "2024-04-09T09:26:00.863131Z",
     "iopub.status.idle": "2024-04-09T09:26:00.875575Z",
     "shell.execute_reply": "2024-04-09T09:26:00.874913Z"
    }
   },
   "outputs": [],
   "source": [
    "def orbit(t, P):\n",
    "    \"\"\"\n",
    "    xBA, yBA, VA, VB for binary, in mas, mas, km/s, km/s\n",
    "\n",
    "    t = [(mjd, 'x'), (mjd, 'y'), (mjd, 'va'), (mjd, 'vb'), ...]\n",
    "\n",
    "    P = {'P':period in days,\n",
    "         'MJD0': time of periastron,\n",
    "         'e': eccentricity,\n",
    "         'omega': argument of periastron in degrees,\n",
    "         'OMEGA': longitude of asscend nodes in degrees,\n",
    "         'i': inclination, in degrees,\n",
    "         }\n",
    "    to compute velocities, either:\n",
    "    'Ma', 'Mb', 'plx', 'gamma': masses (im Msol), parallaxe (mas) [-> will compute 'a'], gamma velocity (km/s)\n",
    "    \n",
    "    'a', 'Ka', 'Kb', 'gamma': semi-major axis (mas), velocity amplitudes in km/s and gamma velocity (km/s)\n",
    "    \"\"\"\n",
    "    M = 2*np.pi*(((np.array([x[0] for x in t])-P['MJD0'])/P['P'])%1)\n",
    "    E = 0\n",
    "    for i in range(20):\n",
    "        E = M + P['e']*np.sin(E)\n",
    "    cos_nu = (np.cos(E)-P['e'])/(1-P['e']*np.cos(E))\n",
    "    nu = np.arccos(cos_nu)\n",
    "    nu[np.sin(M)<0] = 2*np.pi-nu[np.sin(M)<0]\n",
    "    \n",
    "    if 'Ma' in P and 'Mb' in P and 'plx' in P:\n",
    "        P['a'] = ((P['Ma']+P['Mb'])*(P['P']/365.25)**2)**(1/3) # in AU\n",
    "        K = 2*np.pi*P['a']*149597870.*np.sin(P['i']*np.pi/180)/(P['P']*24*3600*np.sqrt(1-P['e']**2)) # km/s\n",
    "        P['Ka'] = K*P['Mb']/(P['Ma']+P['Mb'])\n",
    "        P['Kb'] = K*P['Ma']/(P['Ma']+P['Mb'])\n",
    "        P['a'] *= P['plx'] # in mas\n",
    "    tmp = {}\n",
    "    # -- separation vector\n",
    "    if 'a' in P:\n",
    "        r = P['a']*(1-P['e']**2)/(1+P['e']*np.cos(nu))\n",
    "        x, y, z = r*np.cos(nu), r*np.sin(nu), 0\n",
    "        # -- rotation: argument of periastron\n",
    "        x, y, z = x*np.cos((180-P['omega'])*np.pi/180) + y*np.sin((180-P['omega'])*np.pi/180), \\\n",
    "                 -x*np.sin((180-P['omega'])*np.pi/180) + y*np.cos((180-P['omega'])*np.pi/180), z\n",
    "        # -- rotation: inclination\n",
    "        x, y, z = x, y*np.cos((P['i']+180)*np.pi/180) + z*np.sin((P['i']+180)*np.pi/180), \\\n",
    "                    -y*np.sin((P['i']+180)*np.pi/180) + z*np.cos((P['i']+180)*np.pi/180)\n",
    "        # -- rotation: ascending node \n",
    "        x, y, z = x*np.cos((P['OMEGA']+90)*np.pi/180) + y*np.sin((P['OMEGA']+90)*np.pi/180), \\\n",
    "                 -x*np.sin((P['OMEGA']+90)*np.pi/180) + y*np.cos((P['OMEGA']+90)*np.pi/180), z\n",
    "        tmp.update({'x':x, 'y':y})\n",
    "    if 'Ka' in P and 'Kb' in P:\n",
    "        va = P['Ka']*(np.cos(P['omega']*np.pi/180+nu) + P['e']*np.cos(P['omega']*np.pi/180)) + P['gamma']\n",
    "        vb = -P['Kb']*(np.cos(P['omega']*np.pi/180+nu) + P['e']*np.cos(P['omega']*np.pi/180)) + P['gamma']\n",
    "        tmp.update({'va':va, 'vb':vb})\n",
    "    res = []\n",
    "    for i,o in enumerate(t):\n",
    "      res.append(tmp[o[1]][i])\n",
    "    return np.array(res)  "
   ]
  },
  {
   "cell_type": "code",
   "execution_count": null,
   "id": "1cb2ef5f-129e-4a10-bf0b-2ef1453a1133",
   "metadata": {
    "execution": {
     "iopub.execute_input": "2024-04-09T09:26:00.879405Z",
     "iopub.status.busy": "2024-04-09T09:26:00.879056Z",
     "iopub.status.idle": "2024-04-09T09:26:01.353130Z",
     "shell.execute_reply": "2024-04-09T09:26:01.352352Z"
    }
   },
   "outputs": [],
   "source": [
    "# -- loading results from binary file\n",
    "with open(os.path.join('../DATA/o_Leo/','oLeo_models_allEpochs.dpy'), 'rb') as f:\n",
    "  RES = pickle.load(f)\n",
    "\n",
    "# -- orbital parameters from Gallenne+23, table 6\n",
    "param = {'P':    14.4980686,\n",
    "         'MJD0': 50623.49, \n",
    "         'e':    0.00074, \n",
    "         'Ma':   2.07413,\n",
    "         'Mb':   1.84111,\n",
    "         'omega':214.22,\n",
    "         'OMEGA':191.61,\n",
    "         'i':    57.82, \n",
    "         'plx':  24.41281,\n",
    "         'gamma':26.241,\n",
    "        }\n",
    "\n",
    "if False: # -- fit parameters to our data\n",
    "  # -- recentre times around GRAVITY data:\n",
    "  param['MJD0'] += param['P']*int((np.mean([mjd for mjd in RES])-param['MJD0'])/param['P'])\n",
    "\n",
    "  # -- create various data vectors for fit\n",
    "  input = [(mjd, 'x') for mjd in RES]\n",
    "  obs = [RES[mjd]['best']['B,x'] for mjd in RES]\n",
    "  uncer = [RES[mjd]['uncer']['B,x'] for mjd in RES]\n",
    "  \n",
    "  input.extend([(mjd, 'y') for mjd in RES])\n",
    "  obs.extend([RES[mjd]['best']['B,y'] for mjd in RES])\n",
    "  uncer.extend([RES[mjd]['uncer']['B,y'] for mjd in RES])\n",
    "  \n",
    "  input.extend([(mjd, 'va') for mjd in RES])\n",
    "  obs.extend([RES[mjd]['best']['vA']+RES[mjd]['barycorr_km/s'] for mjd in RES])\n",
    "  uncer.extend([RES[mjd]['uncer']['vA'] for mjd in RES])\n",
    "  \n",
    "  input.extend([(mjd, 'vb') for mjd in RES])\n",
    "  obs.extend([RES[mjd]['best']['vB']+RES[mjd]['barycorr_km/s'] for mjd in RES])\n",
    "  uncer.extend([RES[mjd]['uncer']['vB'] for mjd in RES])\n",
    "  \n",
    "  fit = pmoired.oimodels.dpfit.leastsqFit(orbit, input, param, obs, uncer, verbose=3, \n",
    "                                          doNotFit=['MJD0', 'Ma', 'Mb']\n",
    "                                         )\n",
    "  param = fit['best']\n",
    "\n",
    "plt.close(200)\n",
    "plt.figure(200, figsize=(9, 4))\n",
    "\n",
    "# == astrometric orbit ===============================================\n",
    "ax1 = plt.subplot(122, aspect='equal')\n",
    "ax1.plot(0, 0, '*y', label='A')\n",
    "ax1.plot([RES[mjd]['best']['B,x'] for mjd in RES], \n",
    "         [RES[mjd]['best']['B,y'] for mjd in RES], \n",
    "         '.k', label='observations B')\n",
    "# -- uncorrelated uncertainities\n",
    "# ax1.errorbar([RES[mjd]['best']['B,x'] for mjd in RES], \n",
    "#              [RES[mjd]['best']['B,y'] for mjd in RES], \n",
    "#              xerr=[RES[mjd]['uncer']['B,x'] for mjd in RES],\n",
    "#              yerr=[RES[mjd]['uncer']['B,y'] for mjd in RES],\n",
    "#              color='k', linestyle='none', alpha=0.2)\n",
    "# -- error ellipses:\n",
    "for mjd in RES:\n",
    "  ex, ey = pmoired.oimodels.dpfit.errorEllipse(RES[mjd], 'B,x', 'B,y')\n",
    "  ax1.plot(ex, ey, 'k-', alpha=0.5)\n",
    "\n",
    "# -- predicted positions\n",
    "xp = orbit([(mjd, 'x') for mjd in RES], param)\n",
    "yp = orbit([(mjd, 'y') for mjd in RES], param)\n",
    "ax1.plot(xp, yp, 'om', alpha=0.2, label='predictions for B')\n",
    "\n",
    "# -- on full orbit of the model\n",
    "_phi = np.linspace(0, 1, 100) \n",
    "_t = _phi*param['P']+param['MJD0']\n",
    "_x = orbit([(t, 'x') for t in _t], param)\n",
    "_y = orbit([(t, 'y') for t in _t], param)\n",
    "ax1.plot(_x, _y, ':k')\n",
    "\n",
    "ax1.set_xlim(3, -3)\n",
    "ax1.set_ylim(-4.8, 4.8)\n",
    "ax1.set_xlabel(r'$\\delta$ RA (mas)')\n",
    "ax1.set_ylabel(r'$\\delta$ Dec (mas)')\n",
    "ax1.legend(loc='lower left', fontsize=7)\n",
    "\n",
    "# ==  orbital radial velocity =================================\n",
    "ax2 = plt.subplot(121)\n",
    "# -- orbital phase according to Gallenne+ 23, table 6\n",
    "P, MJD0 = param['P'], param['MJD0'] \n",
    "phi = ((np.array(list(RES.keys()))-MJD0)/P)%1\n",
    "\n",
    "# -- velocity for A\n",
    "ax2.plot(phi, [RES[mjd]['best']['vA']+RES[mjd]['barycorr_km/s']-param['gamma'] for mjd in RES], '*y', \n",
    "         label='GRAVITY velocity A')\n",
    "ax2.errorbar(phi, [RES[mjd]['best']['vA']+RES[mjd]['barycorr_km/s']-param['gamma'] for mjd in RES], color='y',\n",
    "            yerr=[RES[mjd]['uncer']['vA'] for mjd in RES], linestyle='none')\n",
    "\n",
    "# -- velocity for B\n",
    "ax2.plot(phi, [RES[mjd]['best']['vB']+RES[mjd]['barycorr_km/s']-param['gamma'] for mjd in RES], '.k', \n",
    "         label='GRAVITY velocity B')\n",
    "ax2.errorbar(phi, [RES[mjd]['best']['vB']+RES[mjd]['barycorr_km/s']-param['gamma'] for mjd in RES], color='k',\n",
    "            yerr=[RES[mjd]['uncer']['vB'] for mjd in RES], linestyle='none')\n",
    "\n",
    "# -- predicted velocities\n",
    "phip = [((mjd-param['MJD0'])/param['P'])%1 for mjd in RES]\n",
    "vap = orbit([(mjd, 'va') for mjd in RES], param)\n",
    "vbp = orbit([(mjd, 'vb') for mjd in RES], param)\n",
    "ax2.plot(phip, vap-param['gamma'], 'dg', alpha=0.2, label='predictions for A')\n",
    "ax2.plot(phip, vbp-param['gamma'], 'om',  alpha=0.2, label='predictions for B')\n",
    "\n",
    "# -- prediction full orbit\n",
    "_va = orbit([(t, 'va') for t in _t], param)\n",
    "plt.plot(_phi, _va-param['gamma'], ':y')\n",
    "_vb = orbit([(t, 'vb') for t in _t], param)\n",
    "plt.plot(_phi, _vb-param['gamma'], ':k')\n",
    "\n",
    "ax2.set_xlim(0,1)\n",
    "ax2.legend(loc='upper left', fontsize=7)\n",
    "ax2.set_xlabel('orbital phase')\n",
    "ax2.set_ylabel('orbital velocity (km/s)')\n",
    "plt.tight_layout()"
   ]
  },
  {
   "cell_type": "markdown",
   "id": "4e0c74e3-4c82-46c7-a92a-ba0c48539a5b",
   "metadata": {},
   "source": [
    "## spectral parameters as frunction of time"
   ]
  },
  {
   "cell_type": "code",
   "execution_count": null,
   "id": "5b8f0494-9a9e-4041-a261-03c5b962bc3a",
   "metadata": {
    "execution": {
     "iopub.execute_input": "2024-04-09T09:26:01.357414Z",
     "iopub.status.busy": "2024-04-09T09:26:01.357008Z",
     "iopub.status.idle": "2024-04-09T09:26:02.305703Z",
     "shell.execute_reply": "2024-04-09T09:26:02.304864Z"
    }
   },
   "outputs": [],
   "source": [
    "plt.close(201)\n",
    "plt.figure(201, figsize=(9,8))\n",
    "\n",
    "O = ['A,ud', 'B,ud', #'B,f',\n",
    "     'A,line_brg_f',          'B,line_brg_f',\n",
    "     'A,line_brg_lorentzian', 'B,line_brg_gaussian',]\n",
    "for i,o in enumerate(O):\n",
    "  plt.subplot(3,2,i+1)\n",
    "  plt.plot(RES.keys(), [RES[k]['best'][o] for k in RES], 'ok')\n",
    "  plt.errorbar(RES.keys(), [RES[k]['best'][o] for k in RES],\n",
    "               yerr=[RES[k]['uncer'][o] for k in RES],\n",
    "               color='k', linestyle='none')\n",
    "  plt.ylabel(o)\n",
    "plt.tight_layout()"
   ]
  },
  {
   "cell_type": "code",
   "execution_count": null,
   "id": "335553e1-d632-435c-a781-5cd885a36123",
   "metadata": {},
   "outputs": [],
   "source": []
  }
 ],
 "metadata": {
  "kernelspec": {
   "display_name": "Python 3 (ipykernel)",
   "language": "python",
   "name": "python3"
  },
  "language_info": {
   "codemirror_mode": {
    "name": "ipython",
    "version": 3
   },
   "file_extension": ".py",
   "mimetype": "text/x-python",
   "name": "python",
   "nbconvert_exporter": "python",
   "pygments_lexer": "ipython3",
   "version": "3.12.2"
  },
  "widgets": {
   "application/vnd.jupyter.widget-state+json": {
    "state": {},
    "version_major": 2,
    "version_minor": 0
   }
  }
 },
 "nbformat": 4,
 "nbformat_minor": 5
}
