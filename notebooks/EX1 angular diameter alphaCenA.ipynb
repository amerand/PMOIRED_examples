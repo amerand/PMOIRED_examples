{
 "cells": [
  {
   "cell_type": "markdown",
   "metadata": {},
   "source": [
    "# PMOIRED example #1: Alpha Cen A (VLTI/PIONIER)\n",
    "\n",
    "In this example, we look a basic interferometric data with the goal of estimating an angular diameter. The data set is from [Kervella et al. A&A 597, 137 (2017)](https://ui.adsabs.harvard.edu/abs/2017A%26A...597A.137K/abstract): observations of Alpha Cen A with the PIONIER beam combiner. The data have very little spectral resolution and will be treated as monochromatic. Data obtained from [JMMC OIDB](http://oidb.jmmc.fr/search.html?conesearch=alpha%20cen%20%2CJ2000%2C2%2Carcmin&instrument=PIONIER&order=%5Etarget_name), except date 2016-05-28, for which V2 is too high compared to other data.\n",
    "\n",
    "### This example covers:\n",
    "- Loading multiple oifits files\n",
    "- Displaying all data in a same plot\n",
    "- Least square fit:\n",
    "    + uniform disk diameter\n",
    "    + diameter with fixed center-to-limb darkening (Claret 4 parameters)\n",
    "    + diameter and adjusted center-to-limb darkening (power law)\n",
    "- Better uncertainties estimates with bootstrapping\n",
    "- Access model's prediction to make custom plots\n",
    "\n",
    "*https://github.com/amerand/PMOIRED - Antoine Mérand (amerand@eso.org)*"
   ]
  },
  {
   "cell_type": "code",
   "execution_count": null,
   "metadata": {
    "execution": {
     "iopub.execute_input": "2024-07-09T12:44:08.217937Z",
     "iopub.status.busy": "2024-07-09T12:44:08.217452Z",
     "iopub.status.idle": "2024-07-09T12:44:12.879116Z",
     "shell.execute_reply": "2024-07-09T12:44:12.878268Z"
    }
   },
   "outputs": [],
   "source": [
    "# -- uncomment to get interactive plots\n",
    "#%matplotlib widget\n",
    "import pmoired"
   ]
  },
  {
   "cell_type": "markdown",
   "metadata": {},
   "source": [
    "## Load Data\n",
    "`pmoired.OI` loads a single file of a list of files. The result contains method to manipulate data, fit them and display results. "
   ]
  },
  {
   "cell_type": "code",
   "execution_count": null,
   "metadata": {
    "execution": {
     "iopub.execute_input": "2024-07-09T12:44:12.884110Z",
     "iopub.status.busy": "2024-07-09T12:44:12.883604Z",
     "iopub.status.idle": "2024-07-09T12:44:13.802599Z",
     "shell.execute_reply": "2024-07-09T12:44:13.800973Z"
    }
   },
   "outputs": [],
   "source": [
    "oi = pmoired.OI('../DATA/alphaCenA/*fits')"
   ]
  },
  {
   "cell_type": "markdown",
   "metadata": {},
   "source": [
    "## Show data and u,v\n",
    "This is done using the `show` method in the `oi` object: \n",
    "- `allInOne=True` plots everything on one plot. By default, every file will be shown on a separate figure\n",
    "- `perSetup=True` groups files per instruments and (spectral) setups. \n",
    "- `spectro=True` show data spectrally. This behavior is automatic if `spectro` is not set: data with \"a lot\" spectral channels will show data as spectra per telescope / baseline / triangle  \n",
    "- `fig` sets which figure is used (int)\n",
    "- `logV=True` shows visibilities (V2 or |V|) in log scale.\n",
    "- `logB=True` shows baselines (for V2 or |V|) in log scale.\n",
    "- `obs` list of observables to plot (in `['V2', '|V|', 'T3PHI', 'DPHI', 'T3AMP', 'NFLUX']`). By default, all reckognized data are plotted. Once you start doing fits (as we'll see below), this behavior changes to plot fitted observables only. \n",
    "- `showFlagged=True` to show data flagged (i.e. rejected data)"
   ]
  },
  {
   "cell_type": "code",
   "execution_count": null,
   "metadata": {
    "execution": {
     "iopub.execute_input": "2024-07-09T12:44:13.811059Z",
     "iopub.status.busy": "2024-07-09T12:44:13.810044Z",
     "iopub.status.idle": "2024-07-09T12:44:21.208535Z",
     "shell.execute_reply": "2024-07-09T12:44:21.207091Z"
    }
   },
   "outputs": [],
   "source": [
    "oi.show()"
   ]
  },
  {
   "cell_type": "markdown",
   "metadata": {},
   "source": [
    "## Fit uniform disk model\n",
    "In order to fit data, we need to set up with method `setupFit` using a dict containing the context of the fit. only `obs` is mandatory:\n",
    "- `obs`: the list of observables to take into account, in `['V2', '|V|', 'T3PHI', 'DPHI', 'NFLUX']`. `T3PHI` stands for the closure phase. In addition, there are specific observables for spectrally dospersed data: `DPHI` differential phase and `NFLUX` the flux, normalised to the continuum.\n",
    "- `min error`: a dict to set the minimum error (overrinding what's in the data file) for each observable. e.g. `d['fit']['min error'] = {'V2':0.04}`\n",
    "- `min relative error`: a dict to set the minimum relative error (overrinding what's in the data file) for each observable. e.g. `d['fit']['min relative error'] = {'V2':0.04}`\n",
    "- `max error`: a dict to ignore data with errors larger than a certain value. e.g. `d['fit']['max error'] = {'V2':0.1}`\n",
    "- `wl ranges`: list of ranges ($\\lambda_{min}[\\mu m]$, $\\lambda_{max}[\\mu m]$) to restrict fit. e.g. `d['fit']['wl ranges'] = [(1.6, 1.9), (2.2, 2.3)]`. Especially useful for spectral data, to restric fit around a single line\n",
    "- `baseline ranges`: list of ranges (B$_{min}[m]$, B$_{max}[m]$) to restrict fit. e.g. `d['fit']['baseline ranges'] = [(10, 50), (50, 100)]`. Note that is also applies to closure phases: all baselines in the triangles must satisfy the constrainss!\n",
    "\n",
    "The fitting method, `oi.doFit` takes the first guess as input parameter: the parameters stored in a dictionnary define the model (models ). For example, a uniform disk of 8 milli-ardsecond in diameter is  `{'ud':8.0}`. The result is a dict (`oi.bestfit`) containing (among other things):\n",
    "- `best`: the dictionnary of best fit parameters\n",
    "- `uncer`: the dictionnary of uncertainties for the best fit parameters\n",
    "- `chi2`: the reduced chi2\n",
    "- `covd`: the covariance dictionnary\n",
    "\n",
    "The `show` method now show the data and the best fit model."
   ]
  },
  {
   "cell_type": "code",
   "execution_count": null,
   "metadata": {
    "execution": {
     "iopub.execute_input": "2024-07-09T12:44:21.213924Z",
     "iopub.status.busy": "2024-07-09T12:44:21.213489Z",
     "iopub.status.idle": "2024-07-09T12:44:29.745271Z",
     "shell.execute_reply": "2024-07-09T12:44:29.741766Z"
    }
   },
   "outputs": [],
   "source": [
    "oi.setupFit({'obs':['V2'], \n",
    "             'min relative error':{'V2':0.01},\n",
    "             #'baseline ranges': [(50, 100)],\n",
    "            })\n",
    "oi.doFit({'ud':8.5})\n",
    "oi.show(logV=1)"
   ]
  },
  {
   "cell_type": "markdown",
   "metadata": {},
   "source": [
    "## Fit a diameter with fixed Claret 4-parameters center-to-limb darkening\n",
    "From Kervella et al. A&A 597, 137 (2017), table 3:\n",
    "- paper: https://ui.adsabs.harvard.edu/abs/2017A%26A...597A.137K/abstract\n",
    "- table 3: https://www.aanda.org/articles/aa/full_html/2017/01/aa29505-16/T3.html\n",
    "\n",
    "In this example, we use an arbitrary profile for the center-to-limb darkening. The `profile` for the model uses special syntax with `$R` and `$MU` for the reduced radius (0..1) and its cosine. Note that the reduced $\\chi^2$ ($\\sim$5.5) is much lower than for uniform disk model ($\\sim$18).\n",
    "\n",
    "We add `imFov=10` to set the field-of-view (in mas) of a synthetic image of the model. The pixel size is set to a default, but can also be adjusted using `imPix=...` with a value in mas. In this case, one can see the limb darkened compared to the center of the star. Additional parameters for image are `imX, imY`: the center of the image in mas (default 0,0); `imPow`: to show $\\mathrm{image}^\\mathrm{imPow}$ (default 1.0, for compressed contrast use 0<`imPow`<1); `imWl0` gives a list of wavelength to display, in microns (for chromatic models). \n",
    "\n",
    "Note that the model's visibility is not computed from the image, so `im...` parameters do not affect the visibility computation!"
   ]
  },
  {
   "cell_type": "code",
   "execution_count": null,
   "metadata": {
    "execution": {
     "iopub.execute_input": "2024-07-09T12:44:29.749930Z",
     "iopub.status.busy": "2024-07-09T12:44:29.749553Z",
     "iopub.status.idle": "2024-07-09T12:44:44.714847Z",
     "shell.execute_reply": "2024-07-09T12:44:44.713577Z"
    }
   },
   "outputs": [],
   "source": [
    "oi.setupFit({'obs':['V2'], \n",
    "             'min relative error':{'V2':0.01},\n",
    "            })\n",
    "# -- first guess with Claret 4 parameters model\n",
    "oi.doFit({'diam':8., 'profile':'1 - 0.7127*(1-$MU**0.5) + 0.0452*(1-$MU**1) + 0.2643*(1-$MU**1.5) - 0.1311*(1-$MU**2)'})\n",
    "oi.show(logV=1, imFov=10)"
   ]
  },
  {
   "cell_type": "markdown",
   "metadata": {},
   "source": [
    "## Fit a power law center-to-limb darkening\n",
    "The power law center-to-limb darkening has been proposed by [Hestroffer (1997)](https://ui.adsabs.harvard.edu/abs/1997A%26A...327..199H/abstract). Here, both diameter and power law index `alpha` are fitted. When more than one parameters are fitted, correlations between parameters will be shown, whith colors to indicate the strength of the correlation. In our example below, the correlation is very high. Note that evaluation of `profile` is pretty lazy and sollely bsed on string replacement and only reckognize other parameters if they start with the special character `$`. The parameter is not to be defined with `$` in the dictionnary."
   ]
  },
  {
   "cell_type": "code",
   "execution_count": null,
   "metadata": {
    "execution": {
     "iopub.execute_input": "2024-07-09T12:44:44.720519Z",
     "iopub.status.busy": "2024-07-09T12:44:44.719580Z",
     "iopub.status.idle": "2024-07-09T12:44:54.850535Z",
     "shell.execute_reply": "2024-07-09T12:44:54.849208Z"
    }
   },
   "outputs": [],
   "source": [
    "oi.setupFit({'obs':['V2'], \n",
    "             'min relative error':{'V2':0.01}\n",
    "            })\n",
    "param = {'diam':8.0, 'profile':'$MU**$alpha', 'alpha':0.5}\n",
    "oi.doFit(param)\n",
    "oi.show(logV=True)"
   ]
  },
  {
   "cell_type": "markdown",
   "metadata": {},
   "source": [
    "## Bootstrapping for better estimate of uncertainties\n",
    "The reduced $\\chi^2$ of fits are large. This seems to indicate that errors in data are understimated, or that our model is inadequate. The V2 plot seem to indicate that our model is pretty good. The absolute value of the reduced $\\chi^2$ is not used in the parameters' uncertainties estimation. Rather, `PMOIRED` use the convention that uncertainties are scaled to the data scatter, to match $\\chi_{red}^2=1$. \n",
    "\n",
    "Another way to estimate uncertainties is to bootstrap on the data and do multiple fits to estimate the scatter of the fitted parameters. It is achieved by drawing data randomly to create new data sets. The final parameters and uncertainties are estimated as the average and standard devitation of all the fits which were performed.\n",
    "\n",
    "The default number of bootstrapped fit is 2xnumber of data, where the atomic data is a spectral vector of `V2`, `|V|`, `T3PHI` etc. You can set this by hand using `Nfits=` keyword in `bootstrapFit`. To accelerate the computation, it is parallelized. `bootstrapFit` can take an additional parameter, `multi=`, to set the number of threads in case you do not wish to swamp your computer with too much activity.\n",
    "\n",
    "The bootstrap fits are filtered using a recursive sigma clipping algorithm. You can analyse the results by using `showBootstrap` with option `sigmaClipping` (default is 4.5). `showBootstrap` shows the scatter plots and histograms, as well as as comparison with the fit to all data and its uncertainties. When more than one parameter is explored, covariance is computed from the 2D scatter plot. `showChi2=True` also shows the scatter plot for reduced $\\chi^2$."
   ]
  },
  {
   "cell_type": "code",
   "execution_count": null,
   "metadata": {
    "execution": {
     "iopub.execute_input": "2024-07-09T12:44:54.856318Z",
     "iopub.status.busy": "2024-07-09T12:44:54.855920Z",
     "iopub.status.idle": "2024-07-09T12:45:48.929239Z",
     "shell.execute_reply": "2024-07-09T12:45:48.927741Z"
    },
    "tags": []
   },
   "outputs": [],
   "source": [
    "oi.bootstrapFit()"
   ]
  },
  {
   "cell_type": "code",
   "execution_count": null,
   "metadata": {
    "execution": {
     "iopub.execute_input": "2024-07-09T12:45:48.935690Z",
     "iopub.status.busy": "2024-07-09T12:45:48.935165Z",
     "iopub.status.idle": "2024-07-09T12:45:50.993064Z",
     "shell.execute_reply": "2024-07-09T12:45:50.991091Z"
    },
    "tags": []
   },
   "outputs": [],
   "source": [
    "oi.showBootstrap(showChi2=True)"
   ]
  },
  {
   "cell_type": "markdown",
   "metadata": {},
   "source": [
    "# Advanced features"
   ]
  },
  {
   "cell_type": "markdown",
   "metadata": {},
   "source": [
    "Data are stored in the variable `data` which is a list of dictionnary (one dict per file). Raw data in the `oi` object can be accessed as `oi.data[6]['OI_VIS2']['G2D0']`: `6` is index of the data file, `OI_VIS2` is the extension and `G2D0` is the baseline. In practice there is little need to access data manually."
   ]
  },
  {
   "cell_type": "code",
   "execution_count": null,
   "metadata": {
    "execution": {
     "iopub.execute_input": "2024-07-09T12:45:50.999767Z",
     "iopub.status.busy": "2024-07-09T12:45:50.999282Z",
     "iopub.status.idle": "2024-07-09T12:45:51.015739Z",
     "shell.execute_reply": "2024-07-09T12:45:51.014395Z"
    }
   },
   "outputs": [],
   "source": [
    "print(oi.data[6]['filename'])\n",
    "display(oi.data[6]['WL'])\n",
    "display(oi.data[6]['OI_VIS2']['G2D0'])"
   ]
  },
  {
   "cell_type": "markdown",
   "metadata": {},
   "source": [
    "## Access and plot model's predictions for custom plots\n",
    "\n",
    "You can access the last computed model in the list “oi._model”. All data from the same instrument are merged in “oi._merged”, so even if you had loaded many files, “oi._model” will not have the same structure as “oi.data”. In “oi._merged” and “oi._model”, all the baselines are grouped under the keyword “all”.\n",
    " \n",
    "If you want to plot the V2 and T3PHI for the best fit model, and the data. "
   ]
  },
  {
   "cell_type": "code",
   "execution_count": null,
   "metadata": {
    "execution": {
     "iopub.execute_input": "2024-07-09T12:45:51.024500Z",
     "iopub.status.busy": "2024-07-09T12:45:51.022859Z",
     "iopub.status.idle": "2024-07-09T12:45:57.289024Z",
     "shell.execute_reply": "2024-07-09T12:45:57.286617Z"
    }
   },
   "outputs": [],
   "source": [
    "import matplotlib.pyplot as plt\n",
    "plt.close(100)\n",
    "plt.figure(100, figsize=(8,5))\n",
    "\n",
    "axV2 = plt.subplot(121)\n",
    "axT3 = plt.subplot(122)\n",
    "\n",
    "for i in range(len(oi._merged)):\n",
    "    # -- for each instrument / setup\n",
    "    for k in set(oi._merged[i]['OI_VIS2']['all']['NAME']):\n",
    "        # -- select baseline\n",
    "        w = oi._merged[i]['OI_VIS2']['all']['NAME']==k\n",
    "        # -- select valid data\n",
    "        f = ~oi._model[i]['OI_VIS2']['all']['FLAG'][w,:].flatten()\n",
    "        # -- plot model\n",
    "        axV2.plot(oi._model[i]['OI_VIS2']['all']['B/wl'][w,:].flatten()[f],\n",
    "                 oi._model[i]['OI_VIS2']['all']['V2'][w,:].flatten()[f], '.k')\n",
    "        # -- plot data\n",
    "        axV2.errorbar(oi._merged[i]['OI_VIS2']['all']['B/wl'][w,:].flatten()[f],\n",
    "                     oi._merged[i]['OI_VIS2']['all']['V2'][w,:].flatten()[f],\n",
    "                     yerr=oi._merged[i]['OI_VIS2']['all']['EV2'][w,:].flatten()[f],\n",
    "                     linestyle='none', marker='.', capsize=2,\n",
    "                     label=oi._merged[i]['insname']+' '+k)\n",
    "\n",
    "    for k in set(oi._merged[i]['OI_T3']['all']['NAME']):\n",
    "        # -- select triangle\n",
    "        w = oi._merged[i]['OI_T3']['all']['NAME']==k\n",
    "        # -- select valid data\n",
    "        f = ~oi._model[i]['OI_T3']['all']['FLAG'][w,:].flatten()\n",
    "        # -- plot model\n",
    "        axT3.plot(oi._model[i]['OI_T3']['all']['Bmax/wl'][w,:].flatten()[f],\n",
    "                 oi._model[i]['OI_T3']['all']['T3PHI'][w,:].flatten()[f], '.k')\n",
    "        # -- plot data\n",
    "        axT3.errorbar(oi._merged[i]['OI_T3']['all']['Bmax/wl'][w,:].flatten()[f],\n",
    "                     oi._merged[i]['OI_T3']['all']['T3PHI'][w,:].flatten()[f],\n",
    "                     yerr=oi._merged[i]['OI_T3']['all']['ET3PHI'][w,:].flatten()[f],\n",
    "                     linestyle='none', marker='.', capsize=2,\n",
    "                     label=oi._merged[i]['insname']+' '+k)\n",
    "        \n",
    "axV2.legend(fontsize=5)\n",
    "axV2.set_xlabel('B/$\\lambda$ (m/$\\mu$m)')\n",
    "axV2.set_ylabel('V$^2$')\n",
    "\n",
    "axT3.legend(fontsize=5)\n",
    "axT3.set_xlabel('B$_\\mathrm{max}$/$\\lambda$ (m/$\\mu$m)')\n",
    "axT3.set_ylabel('T3PHI (deg)')\n",
    "\n",
    "plt.tight_layout()"
   ]
  },
  {
   "cell_type": "markdown",
   "metadata": {},
   "source": [
    "## How to access the parameters of the fit, uncertainties and correlations \n",
    "The dictionnary `oi.bestfit` contains the result of the fitting process. The information there are mostly self-explantory"
   ]
  },
  {
   "cell_type": "code",
   "execution_count": null,
   "metadata": {
    "execution": {
     "iopub.execute_input": "2024-07-09T12:45:57.294721Z",
     "iopub.status.busy": "2024-07-09T12:45:57.294290Z",
     "iopub.status.idle": "2024-07-09T12:45:57.302711Z",
     "shell.execute_reply": "2024-07-09T12:45:57.300914Z"
    }
   },
   "outputs": [],
   "source": [
    "print('* best fit parameters:')\n",
    "print('   fit: ', oi.bestfit['best'])\n",
    "print('   boot:', oi.boot['best'])\n",
    "\n",
    "print(\"* parameters' uncertainties:\")\n",
    "print('   fit: ', oi.bestfit['uncer'])\n",
    "print('   boot:', oi.boot['uncer'])\n",
    "\n",
    "print(\"* parameters' correlations (dict):\")\n",
    "print('   fit: ', oi.bestfit['cord'])\n",
    "print('   boot:', oi.boot['cord'])"
   ]
  },
  {
   "cell_type": "markdown",
   "metadata": {},
   "source": [
    "## Check how the fitted parameter and $\\chi^2$ evolved during the minimisation\n",
    "It can be interesting to check how the parameters evolved during the fitting process. The method `showFit` displays the information contained in `bestfit`, in particular `bestfit['track']`. For each parameter, the orange line and shadded area show the best fitted value and uncertainties. Data are plotted as function of iteration number."
   ]
  },
  {
   "cell_type": "code",
   "execution_count": null,
   "metadata": {
    "execution": {
     "iopub.execute_input": "2024-07-09T12:45:57.310264Z",
     "iopub.status.busy": "2024-07-09T12:45:57.309782Z",
     "iopub.status.idle": "2024-07-09T12:46:01.408308Z",
     "shell.execute_reply": "2024-07-09T12:46:01.406839Z"
    }
   },
   "outputs": [],
   "source": [
    "oi.showFit()"
   ]
  },
  {
   "cell_type": "code",
   "execution_count": null,
   "metadata": {},
   "outputs": [],
   "source": []
  }
 ],
 "metadata": {
  "kernelspec": {
   "display_name": "Python 3 (ipykernel)",
   "language": "python",
   "name": "python3"
  },
  "language_info": {
   "codemirror_mode": {
    "name": "ipython",
    "version": 3
   },
   "file_extension": ".py",
   "mimetype": "text/x-python",
   "name": "python",
   "nbconvert_exporter": "python",
   "pygments_lexer": "ipython3",
   "version": "3.12.2"
  },
  "widgets": {
   "application/vnd.jupyter.widget-state+json": {
    "state": {},
    "version_major": 2,
    "version_minor": 0
   }
  }
 },
 "nbformat": 4,
 "nbformat_minor": 4
}
