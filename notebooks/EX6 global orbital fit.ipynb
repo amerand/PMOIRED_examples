{
 "cells": [
  {
   "cell_type": "markdown",
   "id": "15e30e6d-53fe-45eb-be87-1488ec344cba",
   "metadata": {},
   "source": [
    "# `PMOIRED` Example 6: global fit of orbital motion, including radial velocities\n",
    "\n",
    "In this example, we re-analyse the $\\omicron$ Leo data from example 5. The goal here is to fit the orbit simultaneously to all data (i.e. all epochs) with one model. For this, we introduce how to use the orbital parameters as model's parameters for `PMOIRED`. We also show how to fit additional data simultaneously to interfereomtric ones, with the help of support functions (in [oLeo_vrad.py](oLeo_vrad.py)). \n",
    "\n",
    "We will use the GRAVITY data showed in [Gallenne et al. (2023)](https://ui.adsabs.harvard.edu/abs/2023A%26A...672A.119G/abstract), as well as the radial velocities from the UVES and SOPHIE spectrograph, tabulated in the same paper (table C.1).\n",
    "\n",
    "Overall, we find very similar results, with a few ceveats:\n",
    "- we do not take into account the phase error in the field of view which affect the apparent semi-major axis $a$\n",
    "- we do not account for systematics, for instance due to spectral calibration, which affect the apparent semi-major axis $a$\n",
    "- the orbit is quasi circular. The means parameters such as $\\omega$ or MJD0 are difficult to compare. We chose below to assume the orbit is circular (but this is easily reverted)"
   ]
  },
  {
   "cell_type": "code",
   "execution_count": null,
   "id": "870a0de9-f2ec-4093-bc08-2506ca991a4a",
   "metadata": {
    "execution": {
     "iopub.execute_input": "2024-04-22T14:43:08.089052Z",
     "iopub.status.busy": "2024-04-22T14:43:08.088404Z",
     "iopub.status.idle": "2024-04-22T14:43:16.107030Z",
     "shell.execute_reply": "2024-04-22T14:43:16.105716Z"
    }
   },
   "outputs": [],
   "source": [
    "# -- uncomment to get interactive plots\n",
    "#%matplotlib widget\n",
    "import numpy as np\n",
    "import matplotlib\n",
    "import matplotlib.pyplot as plt\n",
    "from astropy import units as U\n",
    "\n",
    "import pmoired\n",
    "\n",
    "import oLeo_vrad # where radial velocity are defined, and function to return residuals to the fit"
   ]
  },
  {
   "cell_type": "markdown",
   "id": "0f2558e7-3f3a-4c26-bfdc-61e42620b106",
   "metadata": {},
   "source": [
    "## load GRAVITY data, binned"
   ]
  },
  {
   "cell_type": "code",
   "execution_count": null,
   "id": "2941d5b9-8471-4a39-a8cb-469e1edcbdbe",
   "metadata": {
    "execution": {
     "iopub.execute_input": "2024-04-22T14:43:16.111691Z",
     "iopub.status.busy": "2024-04-22T14:43:16.111234Z",
     "iopub.status.idle": "2024-04-22T14:43:18.706623Z",
     "shell.execute_reply": "2024-04-22T14:43:18.705312Z"
    }
   },
   "outputs": [],
   "source": [
    "oleo = pmoired.OI('../DATA/o_Leo/G*fits', insname='GRAVITY_SC', binning=200, verbose=0)\n",
    "allMJD = []\n",
    "for d in oleo.data:\n",
    "    allMJD.extend(list(d['MJD']))"
   ]
  },
  {
   "cell_type": "markdown",
   "id": "66e1dc57-8856-41b0-a700-925ff28913c1",
   "metadata": {},
   "source": [
    "## global fit of interfereomtric data only\n",
    "\n",
    "The orbital motion is defined by setting the position `2,x` and `2,y` to special keyword `orbit`. By doing so, `PMOIRED` will look to the orbital parmaeters in the form `2,orb ___`, where `___` are:\n",
    "- `P`: the orbital period in days\n",
    "- `MJD0`: the modified Julian date of the peri passage\n",
    "- `e`: the eccentricity\n",
    "- `incl`: the inclination in degrees\n",
    "- `omega`: the argument of the periapsis ($\\omega$) in degrees\n",
    "- `OMEGA`: the longitude of the ascending node ($\\Omega$) in degrees\n",
    "- `a`: apparent semi-major axis in mas\n",
    "  \n",
    "Some work is required on the parametrisation:\n",
    "- `MJD0` need to be chosen within the range of observed dates, otherwise it create large correlation between its values and other parameters such as `omega` or `P`\n",
    "- values with have very small uncertainties compared to their value do not play well with the minimiser. the is the case for `MJD0` or `P` for instance, For this reason, we only fit a small offset to a fixed values\n",
    "- within the uncertainties, the orbit is circular (`e`$\\approx$0), hence the $\\sim$100% correlation between `MJD0` and `omega` and their large incertainties. We fix `omega` and `e` (after setting the later to 0).\n",
    "\n",
    "\n",
    "Comparing our result to [Gallenne et al. (2023)](https://ui.adsabs.harvard.edu/abs/2023A%26A...672A.119G/abstract) table 6 we find an overall good agreement. The orbit plot is just indicative: the blue points are the predictions from the model, not the fitted position at each epoch. In this model, there is not fit at each epoch. "
   ]
  },
  {
   "cell_type": "code",
   "execution_count": null,
   "id": "bca28ef6-399f-48f9-9548-97e832cc834a",
   "metadata": {
    "execution": {
     "iopub.execute_input": "2024-04-22T14:43:18.711296Z",
     "iopub.status.busy": "2024-04-22T14:43:18.710942Z",
     "iopub.status.idle": "2024-04-22T14:43:21.224093Z",
     "shell.execute_reply": "2024-04-22T14:43:21.223263Z"
    }
   },
   "outputs": [],
   "source": [
    "from importlib import reload\n",
    "reload(oLeo_vrad)\n",
    "\n",
    "# -- original parameters from Gallenne et al. 2023, table 6\n",
    "plx = 24.412 # parallax in mas\n",
    "m0 = {'1,ud':1.281, \n",
    "     '2,ud':(2*2.43*U.Rsun).to(U.au).value*plx,\n",
    "     '2,x':'orbit',\n",
    "     '2,y':'orbit',\n",
    "     '2,f':10**(-(1.1+0.39)/2.5),\n",
    "     '2,orb e':0.00007, \n",
    "     '2,orb omega': 214,\n",
    "     '2,orb OMEGA': 191.6,\n",
    "     '2,orb incl': 57.8,\n",
    "     '2,orb MJD0': 2450623.9-2400000.5,\n",
    "     '2,orb P': 14.498068,\n",
    "     '2,orb a': 4.477,\n",
    "     }\n",
    "\n",
    "m = m0.copy()\n",
    "\n",
    "# -- force the orbit to be circular\n",
    "forceCircular = True\n",
    "if forceCircular:\n",
    "    m['2,orb e'] = 0\n",
    "    m['2,orb MJD0'] -= m['2,orb omega']/360*m['2,orb P']\n",
    "    m['2,orb omega'] = 0\n",
    "    doNotFit = ['2,orb e', '2,orb omega']\n",
    "else:\n",
    "    doNotFit = []\n",
    "\n",
    "# -- recenter the MJD0 around interferometric data\n",
    "m['2,orb MJD0'] -= m['2,orb P']*round((m['2,orb MJD0'] - round(np.mean(allMJD), 0))/m['2,orb P'], 0)\n",
    "\n",
    "# -- only fit decimal part of the MJD0 to help fit converge\n",
    "m['DT'] = m['2,orb MJD0']%1\n",
    "m['2,orb MJD0'] = str(int(m['2,orb MJD0']))+' + $DT'\n",
    "\n",
    "# -- only fit decimal part of the Period to help fit converge\n",
    "Nd = 2\n",
    "m['DP'] = (m['2,orb P']-round(m['2,orb P'], Nd))*10**Nd\n",
    "m['2,orb P'] = str(round(m['2,orb P'], Nd))+' + $DP/10**%d'%Nd\n",
    "\n",
    "def compareParams(bestfit, title='PMOIRED'):\n",
    "    _best = pmoired.oimodels.computeLambdaParams(bestfit['best'])\n",
    "    _uncer =  bestfit['uncer'].copy(); _uncer['2,orb MJD0'] = _uncer['DT']; _uncer['2,orb P'] = _uncer['DP']*10**(-Nd)\n",
    "    print('parameter       Gallenne+23        '+title)\n",
    "    for k in m0.keys():\n",
    "        if not type(m0[k])==str and not type(m0[k])==type(oLeo_vrad.resiVrad):\n",
    "            dif = _best[k]-m0[k]\n",
    "            if k=='2,orb MJD0':\n",
    "                # MJD0 is compared modulo the period\n",
    "                dif = dif%(_best['2,orb P'])\n",
    "            if _uncer[k]>0:\n",
    "                dif /= _uncer[k]\n",
    "                unit = 'sigma'\n",
    "            else:\n",
    "                dif = None\n",
    "            if not dif is None:\n",
    "                print('%-12s'%k, '%13.6f -> %13.6f ± %11.6f (%5.1f%s)'%(m0[k], _best[k], _uncer[k], dif, unit))\n",
    "\n",
    "# -- set up context of the fit\n",
    "oleo.setupFit({'obs':['T3PHI', '|V|'], })\n",
    "\n",
    "oleo.doFit(m, doNotFit=doNotFit)\n",
    "oleo.show(showUV=False)\n",
    "\n",
    "# -- compare with original parameters\n",
    "compareParams(oleo.bestfit,  'PMOIRED interf only (fit)')\n",
    "\n",
    "oLeo_vrad.showOrbit(oleo.bestfit['best'], allMJD)"
   ]
  },
  {
   "cell_type": "code",
   "execution_count": null,
   "id": "75cbad09-edd4-4288-8c3c-48f034f3a7cb",
   "metadata": {
    "execution": {
     "iopub.execute_input": "2024-04-22T14:43:21.228171Z",
     "iopub.status.busy": "2024-04-22T14:43:21.227805Z",
     "iopub.status.idle": "2024-04-22T14:43:34.854694Z",
     "shell.execute_reply": "2024-04-22T14:43:34.853956Z"
    }
   },
   "outputs": [],
   "source": [
    "oleo.bootstrapFit(100)\n",
    "oleo.showBootstrap()"
   ]
  },
  {
   "cell_type": "code",
   "execution_count": null,
   "id": "a75d8011-2c38-4336-a3d7-280257b8511b",
   "metadata": {
    "execution": {
     "iopub.execute_input": "2024-04-22T14:43:34.859109Z",
     "iopub.status.busy": "2024-04-22T14:43:34.858745Z",
     "iopub.status.idle": "2024-04-22T14:43:34.863465Z",
     "shell.execute_reply": "2024-04-22T14:43:34.862690Z"
    }
   },
   "outputs": [],
   "source": [
    "# -- compare with original parameters\n",
    "compareParams(oleo.boot, 'PMOIRED interf only (bootstrapped)')"
   ]
  },
  {
   "cell_type": "markdown",
   "id": "30b8b652-9fcf-4981-ba69-0e7bf57d9345",
   "metadata": {},
   "source": [
    "## Taking into account radial velocities\n",
    "\n",
    "The orbital calculator can be also used to compute radial velocities, as exploited in [oLeo_vrad.py](oLeo_vrad.py). In that case, we need to parametrise the semi-major axis using the parallax. \n",
    "\n",
    "Because of Kepler 2rd law, masses, paralaxes and apparent semi-major axis are redundant. We can parametrise using:\n",
    "- `plx`, `M` and `q`==Msecondary/Mprimary: the parallax in mas, total mass in solar masse and mass ratio.\n",
    "- `plx`, `Ma` and `Mb`: the parallax in mas and masses of the primary and secondary, in solar masses\n",
    "- `plx`, `a` and `q`: parallax an apparent semi-major axis in mas, mass ratio.\n",
    "\n",
    "We choose the last parametrisation because `a` is really what we measure in interferometry and, as explained in Gallenne et al. (2023), section 2.3, there is a systematic uncertainty on the scaling of intereferometric separation arising from the uncertainty on the spectral calibration. IN the case of GRAVITY in high resolution, this is 0.02%."
   ]
  },
  {
   "cell_type": "code",
   "execution_count": null,
   "id": "8cd8e1e5-046a-4b51-aeb1-51e795254d55",
   "metadata": {
    "execution": {
     "iopub.execute_input": "2024-04-22T14:43:34.867638Z",
     "iopub.status.busy": "2024-04-22T14:43:34.867324Z",
     "iopub.status.idle": "2024-04-22T14:43:37.269257Z",
     "shell.execute_reply": "2024-04-22T14:43:37.268561Z"
    }
   },
   "outputs": [],
   "source": [
    "# -- original parameters from Gallenne et all 2023, table 6\n",
    "plx = 24.412 # parallax in mas\n",
    "m0 = {'1,ud':1.281, \n",
    "     '2,ud':(2*2.43*U.Rsun).to(U.au).value*plx,\n",
    "     '2,x':'orbit',\n",
    "     '2,y':'orbit',\n",
    "     '2,f':10**(-(1.1+0.39)/2.5),\n",
    "     '2,orb e':0.00007, \n",
    "     '2,orb omega': 214,\n",
    "     '2,orb OMEGA': 191.6,\n",
    "     '2,orb incl': 57.8,\n",
    "     '2,orb MJD0': 2450623.9-2400000.5,\n",
    "     '2,orb P': 14.498068,\n",
    "     '2,orb a': 4.477,\n",
    "     # -- radial velocities\n",
    "     '2,orb plx': plx,\n",
    "     '2,orb q':  1.841/2.074,\n",
    "     '2,orb gamma': 26.24,\n",
    "     'additional residuals': oLeo_vrad.resiVrad,\n",
    "     }\n",
    "\n",
    "m = m0.copy()\n",
    "\n",
    "forceCircular = True\n",
    "if forceCircular:\n",
    "    m['2,orb e'] = 0\n",
    "    m['2,orb MJD0'] -= m['2,orb omega']/360*m['2,orb P']\n",
    "    m['2,orb omega'] = 0\n",
    "    doNotFit = ['2,orb e', '2,orb omega']\n",
    "else:\n",
    "    doNotFit = []\n",
    "\n",
    "# -- recenter the MJD0 around interferometric data\n",
    "m['2,orb MJD0'] -= m['2,orb P']*round((m['2,orb MJD0']-round(np.mean(allMJD), 0))/m['2,orb P'], 0)\n",
    "\n",
    "# -- only fit decimal part of the MJD0 to help fit converge\n",
    "m['DT'] = m['2,orb MJD0']%1\n",
    "m['2,orb MJD0'] = str(int(m['2,orb MJD0']))+' + $DT'\n",
    "\n",
    "# -- only fit decimal part of the Period to help fit converge\n",
    "N = 2\n",
    "m['DP'] = (m['2,orb P']-round(m['2,orb P'], N))*10**N\n",
    "m['2,orb P'] = str(round(m['2,orb P'], N))+' + $DP/10**%d'%N\n",
    "\n",
    "# -- set observables and minimum errors: it will affect the final result as it\n",
    "# -- changes the relative weight to raidal velocities\n",
    "oleo.setupFit({'obs':['T3PHI', '|V|'], \n",
    "               'min error':{'T3PHI':1.0},\n",
    "               'min relative error':{'|V|':0.01},\n",
    "             })\n",
    "\n",
    "oleo.doFit(m, doNotFit=doNotFit)\n",
    "oleo.show(showUV=False)\n",
    "\n",
    "# -- show radial velocity data\n",
    "oLeo_vrad.resiVrad(oleo.bestfit['best'], fig=oleo.fig)\n",
    "\n",
    "# -- compare with original parameters\n",
    "compareParams(oleo.bestfit, 'PMOIRED interf+vrad (fit)')"
   ]
  },
  {
   "cell_type": "markdown",
   "id": "81e8c71b-297e-4418-b656-44d11254f91d",
   "metadata": {},
   "source": [
    "## bootstrapping\n",
    "\n",
    "Radial velocities require also randomisation. `PMOIRED` method `bootstrapFit` accepts an optional function `additionalRandomise` such that `additionalRandomise(True)` will randomise the data, and `additionalRandomise(False)` will reverse the data to their original order and weights. see function `randomise` in [oLeo_vrad.py](./oLeo_vrad.py)."
   ]
  },
  {
   "cell_type": "code",
   "execution_count": null,
   "id": "50f7a16d-cf69-48b4-bcaa-f42670d723d3",
   "metadata": {
    "execution": {
     "iopub.execute_input": "2024-04-22T14:43:37.273401Z",
     "iopub.status.busy": "2024-04-22T14:43:37.273075Z",
     "iopub.status.idle": "2024-04-22T14:43:55.113787Z",
     "shell.execute_reply": "2024-04-22T14:43:55.112956Z"
    }
   },
   "outputs": [],
   "source": [
    "oleo.bootstrapFit(100, additionalRandomise=oLeo_vrad.randomise)\n",
    "oleo.showBootstrap()"
   ]
  },
  {
   "cell_type": "code",
   "execution_count": null,
   "id": "fd5d6cc3-ebf1-4d0f-acd5-0827f7df6085",
   "metadata": {
    "execution": {
     "iopub.execute_input": "2024-04-22T14:43:55.119322Z",
     "iopub.status.busy": "2024-04-22T14:43:55.118935Z",
     "iopub.status.idle": "2024-04-22T14:43:55.123407Z",
     "shell.execute_reply": "2024-04-22T14:43:55.122710Z"
    }
   },
   "outputs": [],
   "source": [
    "compareParams(oleo.boot, 'PMOIRED interf+vrad (bootstrapped)')"
   ]
  },
  {
   "cell_type": "markdown",
   "id": "f0c638e9-540c-4641-a07f-bee7f52d5317",
   "metadata": {},
   "source": [
    "## grid search orbit\n",
    "\n",
    "All the previous work was made by fitting the data starting from the known solution. In case the orbital solution is not known, one needs to explore the parameters' space. `gridFit` allows to start many fits with randomise parameters. In the case below, to limit the search, we assume the orbit is circular and we know the period (e.g. by looking at the radial velocity curves). The search is now guaranteed to find the global minimum, but most of the time it will. You might also find several solutions with $\\chi^2$ close to 2, but they will have their `MJD0` a whole number of periods apart. If the orbit is not restricted to be circular, then a lot more minima are found: the all have very similar parameters except for the degeneracy `MJD0`/`omega`."
   ]
  },
  {
   "cell_type": "code",
   "execution_count": null,
   "id": "849cc0a7-eaba-4802-9808-37bc319960d8",
   "metadata": {
    "execution": {
     "iopub.execute_input": "2024-04-22T14:43:55.127784Z",
     "iopub.status.busy": "2024-04-22T14:43:55.127400Z",
     "iopub.status.idle": "2024-04-22T14:44:54.685278Z",
     "shell.execute_reply": "2024-04-22T14:44:54.684276Z"
    }
   },
   "outputs": [],
   "source": [
    "\n",
    "plx = 24.412 # parallax in mas\n",
    "m0 = {'1,ud': 1.26, \n",
    "     '2,ud': 0.72,\n",
    "     '2,x':'orbit',\n",
    "     '2,y':'orbit',\n",
    "     '2,f': 0.255,\n",
    "     '2,orb e':0.00, \n",
    "     '2,orb omega': 214,\n",
    "     '2,orb OMEGA': 191.6,\n",
    "     '2,orb incl': 57.8,\n",
    "     '2,orb MJD0': 2450623.9-2400000.5,\n",
    "     '2,orb P': 14.498068,\n",
    "     '2,orb a': 4.477,\n",
    "     # -- radial velocities\n",
    "     '2,orb plx': plx,\n",
    "     '2,orb q':  1.841/2.074,\n",
    "     '2,orb gamma': 26.24,\n",
    "     'additional residuals': oLeo_vrad.resiVrad,\n",
    "     }\n",
    "\n",
    "m = m0.copy()\n",
    "\n",
    "# -- exploration pattern\n",
    "expl = {'rand':{'2,orb incl':(30, 150), # >90 to reverse rotation direction\n",
    "                '2,orb OMEGA':(0, 180), \n",
    "                '2,orb MJD0': (59668.0-7,59668.0+7), \n",
    "                #'2,orb P':(14, 15), # not knowing the period makes the search much more difficult...\n",
    "                '2,orb a':(3, 5), # based on max observed separation\n",
    "                '2,orb q':(0.8, 0.9), # based on similar semi-amplitude\n",
    "               }}\n",
    "\n",
    "forceCircular = True\n",
    "if forceCircular:\n",
    "    m['2,orb e'] = 0\n",
    "    m['2,orb MJD0'] -= m['2,orb omega']/360*m['2,orb P']\n",
    "    m['2,orb omega'] = 0\n",
    "    doNotFit = ['2,orb e', '2,orb omega']\n",
    "else:\n",
    "    expl['rand']['2,orb e'] = (0.01, 0.1)\n",
    "    expl['rand']['2,orb omega'] = (-180, 180)\n",
    "    doNotFit = []\n",
    "\n",
    "# -- prior:\n",
    "prior = [('2,orb q', '<', 1), # secondary is lighter\n",
    "         ('2,f', '<', 1), # secondary is dimmer\n",
    "        ]\n",
    "\n",
    "oleo.setupFit({'obs':['T3PHI', '|V|']})\n",
    "\n",
    "oleo.gridFit(expl, Nfits=200, model=m, doNotFit=doNotFit, prior=prior)\n",
    "# oleo.save('oLeo_all_orbits.pmrd', overwrite=True)"
   ]
  },
  {
   "cell_type": "code",
   "execution_count": null,
   "id": "fb6a697c-ac45-4933-9b50-645948350189",
   "metadata": {
    "execution": {
     "iopub.execute_input": "2024-04-22T14:44:54.689888Z",
     "iopub.status.busy": "2024-04-22T14:44:54.689532Z",
     "iopub.status.idle": "2024-04-22T14:44:57.411335Z",
     "shell.execute_reply": "2024-04-22T14:44:57.410529Z"
    }
   },
   "outputs": [],
   "source": [
    "# oleo = pmoired.OI('oLeo_all_orbits.pmrd')\n",
    "chi2 = sorted([g['chi2'] for g in oleo.grid])\n",
    "chi2min = chi2[0]\n",
    "print(\"first 5 solutions' chi2:\", np.round(chi2[:5], 1))\n",
    "deltaChi2 = 1 # shows solution between min(chi2) and min(chi2)+deltaChi2\n",
    "for g in oleo.grid:\n",
    "    if g['chi2']<chi2min+deltaChi2:\n",
    "        m = pmoired.oimodels.computeLambdaParams(g['best'])\n",
    "        orb = {k.split('orb ')[1]:m[k] for k in m if k.startswith('2,orb')} \n",
    "        print(g['chi2'], orb)\n",
    "\n",
    "oleo.show()\n",
    "# -- show radial velocity data\n",
    "oLeo_vrad.resiVrad(oleo.grid[0]['best'], fig=oleo.fig)"
   ]
  },
  {
   "cell_type": "code",
   "execution_count": null,
   "id": "791de61e-b079-4781-b6f3-544fa8aea853",
   "metadata": {},
   "outputs": [],
   "source": []
  }
 ],
 "metadata": {
  "kernelspec": {
   "display_name": "Python 3 (ipykernel)",
   "language": "python",
   "name": "python3"
  },
  "language_info": {
   "codemirror_mode": {
    "name": "ipython",
    "version": 3
   },
   "file_extension": ".py",
   "mimetype": "text/x-python",
   "name": "python",
   "nbconvert_exporter": "python",
   "pygments_lexer": "ipython3",
   "version": "3.12.2"
  },
  "widgets": {
   "application/vnd.jupyter.widget-state+json": {
    "state": {},
    "version_major": 2,
    "version_minor": 0
   }
  }
 },
 "nbformat": 4,
 "nbformat_minor": 5
}
