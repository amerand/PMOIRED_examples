{
 "cells": [
  {
   "cell_type": "markdown",
   "metadata": {
    "tags": []
   },
   "source": [
    "# `PMOIRED` example #2: circum stellar disk with inclination, orientation, disk SED, disk geometry etc.\n",
    "\n",
    "We will analyse VLTI/PIONIER observation of [FS CMa](http://simbad.cds.unistra.fr/simbad/sim-id?Ident=FS+CMa), which have been analysed by model fitting ([Lazareff et al. 2017](https://arxiv.org/pdf/1611.08428.pdf)) as well as image reconstruction ([Kluska et al. 2020](https://arxiv.org/pdf/2004.01594.pdf)). The tutorial shows how to build a model with increasing morphological and chromatic complexity. \n",
    "\n",
    "- [Load and show data](#load)\n",
    "- [Filter data by error bars](#clean)\n",
    "- [Simple model: gray star + gaussian](#gaussian)\n",
    "- [Add spectral index](#spectral_index)\n",
    "- [Add inclination and projection angle](#rotation_projangle)\n",
    "- [Use a more realistic star+rim+disk geometry](#rim_and_disk)\n",
    "- [Off centred star to improve closure phase](#off_centred_star)\n",
    "- [Comparison with models from Lazareff+2017 and Kluska+2020](#comparison)\n",
    "- [Bonus: assert the detection limit for a planet](#planet)"
   ]
  },
  {
   "cell_type": "code",
   "execution_count": null,
   "metadata": {
    "execution": {
     "iopub.execute_input": "2024-07-09T12:44:08.194175Z",
     "iopub.status.busy": "2024-07-09T12:44:08.193771Z",
     "iopub.status.idle": "2024-07-09T12:44:12.926484Z",
     "shell.execute_reply": "2024-07-09T12:44:12.925306Z"
    }
   },
   "outputs": [],
   "source": [
    "# -- uncomment to get interactive plots\n",
    "#%matplotlib widget\n",
    "from matplotlib import pyplot as plt\n",
    "import numpy as np\n",
    "from IPython.display import Image\n",
    "import pmoired\n",
    "\n",
    "#from pmoired import tellcorr, dpfit\n",
    "    \n",
    "# -- in case you want to limit the number of cores for the multiprocessing functions\n",
    "# -- will take all CPUs otherwise! \n",
    "# pmoired.MAX_THREADS = 8 \n",
    "print('will use', pmoired.MAX_THREADS, 'CPUs for multiprocessing')"
   ]
  },
  {
   "cell_type": "markdown",
   "metadata": {},
   "source": [
    "# Load files in `PMOIRED` and show data <a id='load'></a>\n",
    "\n",
    "The `pmoired.OI` constructor is used to create an instance of the OI class stored in the variable `oi`. All basic operations from now on are performed by builtin functions as `oi.function()`. For instance, showing the data is simply done by calling `oi.show()`.  \n",
    "\n",
    "Data are provided with the tutorial, they were retrieved on https://oidb.jmmc.fr/index.html\n",
    "- put name of the star: \"FS CMa\"\n",
    "- blue tick boxes: only L2 or L3\n",
    "- data PI= BERGER (upper case!) for the data from the B. Lazareff+ paper\n",
    "- download and save FITS files"
   ]
  },
  {
   "cell_type": "code",
   "execution_count": null,
   "metadata": {
    "execution": {
     "iopub.execute_input": "2024-07-09T12:44:12.995175Z",
     "iopub.status.busy": "2024-07-09T12:44:12.994803Z",
     "iopub.status.idle": "2024-07-09T12:44:17.088273Z",
     "shell.execute_reply": "2024-07-09T12:44:17.083478Z"
    }
   },
   "outputs": [],
   "source": [
    "oi = pmoired.OI('../DATA/FS_CMa/*Calibrated.fits')"
   ]
  },
  {
   "cell_type": "code",
   "execution_count": null,
   "metadata": {
    "execution": {
     "iopub.execute_input": "2024-07-09T12:44:17.095163Z",
     "iopub.status.busy": "2024-07-09T12:44:17.094209Z",
     "iopub.status.idle": "2024-07-09T12:44:33.579124Z",
     "shell.execute_reply": "2024-07-09T12:44:33.577673Z"
    }
   },
   "outputs": [],
   "source": [
    "# -- context dictionnary for plotting / fitting:\n",
    "fit = {'obs':['V2', 'T3PHI']}\n",
    "oi.setupFit(fit)\n",
    "oi.show()"
   ]
  },
  {
   "cell_type": "markdown",
   "metadata": {},
   "source": [
    "<a id='clean'></a>\n",
    "## clean data to remove points with large uncertainties \n",
    "Some data points have large uncertainties. It should not change the interpretation, but they tend to make looking at the data annoying. We can ignore data by adding `max relative error` or `max error` in the setup dictionnary. These refers to dict keyed by observables which set relative or absolute thresholds. Note that one can also force the relative/absolute data errors to have a minimum level with keywords `min error` and `min relative error`. `mult error` allows to multiply errors by a given factor (see `?oi.setupFit`).\n",
    "\n",
    "One can set the `fit` dictionnary manually for every data file by iterating the list `oi.data`. Each element of `oi.data` is a dictionnary. Interesting elements to decide customise the `fit` dict:\n",
    "- `'insname'`: the name of the instrument\n",
    "- `'telescopes'`: list of telescopes\n",
    "- `'MJD'`: list of MJDs present in the data\n",
    "- etc."
   ]
  },
  {
   "cell_type": "code",
   "execution_count": null,
   "metadata": {
    "execution": {
     "iopub.execute_input": "2024-07-09T12:44:33.586539Z",
     "iopub.status.busy": "2024-07-09T12:44:33.585726Z",
     "iopub.status.idle": "2024-07-09T12:44:33.597023Z",
     "shell.execute_reply": "2024-07-09T12:44:33.594704Z"
    },
    "tags": []
   },
   "outputs": [],
   "source": [
    "oi.data[0].keys()"
   ]
  },
  {
   "cell_type": "code",
   "execution_count": null,
   "metadata": {
    "execution": {
     "iopub.execute_input": "2024-07-09T12:44:33.604597Z",
     "iopub.status.busy": "2024-07-09T12:44:33.603538Z",
     "iopub.status.idle": "2024-07-09T12:45:01.023020Z",
     "shell.execute_reply": "2024-07-09T12:45:01.021537Z"
    }
   },
   "outputs": [],
   "source": [
    "# -- context dictionnary for the fit:\n",
    "fit = {'obs':['V2', 'T3PHI'], \n",
    "       'max relative error':{'V2':.17},\n",
    "       'max error':{'T3PHI':5.0},\n",
    "    }\n",
    "\n",
    "# -- build in function\n",
    "oi.setupFit(fit)\n",
    "\n",
    "# -- alternate, by hand:\n",
    "for d in oi.data:\n",
    "    # here you can use \"if\" statement to make custom \"fit\"\n",
    "    d['fit'] = fit\n",
    "\n",
    "oi.show(logB=True)\n",
    "plt.tight_layout()"
   ]
  },
  {
   "cell_type": "markdown",
   "metadata": {},
   "source": [
    "# Simplest model: star+gaussian <a id='gaussian'></a>\n",
    "unresolved star + extended gaussian (centered). Since the model is centro-symetric, no need to fit the phase closure (`T3PHI`). Because we fit more than one parameter, the correlation matrix is also given. in `oi.show()`, we give a field of view to trigger the computation of the synthetic image. Check `?oi.show` to see all options. Here we give the parallax (in mas) via `imPlx=` so a secondary scale is shown in AU. "
   ]
  },
  {
   "cell_type": "code",
   "execution_count": null,
   "metadata": {
    "execution": {
     "iopub.execute_input": "2024-07-09T12:45:01.029007Z",
     "iopub.status.busy": "2024-07-09T12:45:01.028510Z",
     "iopub.status.idle": "2024-07-09T12:45:35.692588Z",
     "shell.execute_reply": "2024-07-09T12:45:35.690079Z"
    }
   },
   "outputs": [],
   "source": [
    "from importlib import reload\n",
    "reload(pmoired.oifits)\n",
    "fit = {'obs':['V2'],\n",
    "       'max relative error':{'V2':.17},\n",
    "       'min relative error':{'V2':0.05},\n",
    "      }\n",
    "\n",
    "param = {'star,ud':0.1, 'star,f':1.0, \n",
    "         'disk,fwhm':18., 'disk,f':1.0, \n",
    "        }\n",
    "\n",
    "oi.setupFit(fit)\n",
    "doNotFit=['star,f', 'star,ud']\n",
    "oi.doFit(param, doNotFit=doNotFit)\n",
    "oi.show(imFov=40, imMax='99', logB=True, showUV=False, imPlx=1.75)"
   ]
  },
  {
   "cell_type": "markdown",
   "metadata": {},
   "source": [
    "## Add slope in the disk spectrum using a spectral index.<a id='spectral_index'></a>\n",
    "\n",
    "Interferometric observations are sensitive to the ratio of the SED of the components in the field. In our case, the measurements are sensitive to the flux ratio between the star and the disk. We can express the SED of the star as achromatic (the default in `PMOIRED`), but we can also choose to express it in a physical way, for instance as black body radiation (or a good approximation), so the SED we derive for the disk is meaningful. \n",
    "\n",
    "Using the keyword `spectrum` for a component, one can define an arbitrary SED for the component, using special string `$WL` for the wavelength in microns. In the [Reyleigh-Jeans regime] (i.e. for wavelengths way past the peak of the Black Body Planck SED), the SED is proportional to $\\lambda^{-4}$. More realistically, for FS CMa in the near infrared, the spectral index is of the order of -3.8. For dust sublimation (as we expect to see the dust closest to the star), [Kobayashi et al (2011)](https://ui.adsabs.harvard.edu/abs/2011EP%26S...63.1067K/abstract) provides an estimate of T$_\\mathrm{sub}$ of 500 to 2000K depending on the nature of the dust and local conditions. We will use 1300K as typical for silicate-rich dust (Olivine), just to see what spectral index to expect for the rim of the disk (where dust sublimates).\n",
    "\n",
    "**Tip**: _Expressing the SED as $a\\lambda^{b}$ will result in a correlation between $a$ and $b$. To avoid this, is is better to use $a\\left(\\frac{\\lambda}{<\\lambda>}\\right)^{b}$, where $<\\lambda>$ is the average wavelength of the dataset. The value of the spectral index $b$ will remain the same, although the value of $a$ will change between the 2 definitions._"
   ]
  },
  {
   "cell_type": "code",
   "execution_count": null,
   "metadata": {
    "execution": {
     "iopub.execute_input": "2024-07-09T12:45:35.699205Z",
     "iopub.status.busy": "2024-07-09T12:45:35.698740Z",
     "iopub.status.idle": "2024-07-09T12:45:38.180838Z",
     "shell.execute_reply": "2024-07-09T12:45:38.179275Z"
    }
   },
   "outputs": [],
   "source": [
    "import astropy.units as U\n",
    "import astropy.constants as C\n",
    "# -- effective temperature for a B2 type star\n",
    "T = np.logspace(3, 4.5, 20)\n",
    "P = []\n",
    "# -- wavelength range in near infrared H band\n",
    "l = np.linspace(1.5, 1.8, 10)*U.um\n",
    "\n",
    "for t in T:    \n",
    "    # -- Black Body Blambda:\n",
    "    Bl = 2*C.h*C.c**2/l**5/(np.exp(C.h*C.c/(l*C.k_B*t*U.K))-1)\n",
    "    # -- compute spectral index \n",
    "    P.append(np.polyfit(np.log(l.value/np.mean(l.value)), np.log(Bl.value), 1)[0])\n",
    "    \n",
    "plt.close(100)\n",
    "plt.figure(100)\n",
    "plt.plot(T, P)\n",
    "Tstar = 20000 # Be star\n",
    "plt.plot(Tstar, np.interp(Tstar, T, P), '*y', ms=10, \n",
    "        label='FS CMa central star ~ %.1f'%(np.interp(Tstar, T, P)))\n",
    "Tdust = 1300 # Olivine \n",
    "plt.plot(Tdust, np.interp(Tdust, T, P), 'ok', ms=10, \n",
    "        label='dust sublimation ~ %.1f'%(np.interp(Tdust, T, P)))\n",
    "\n",
    "plt.legend()\n",
    "plt.xlabel('Teff (K)')\n",
    "plt.title('H band spectral index')\n",
    "\n",
    "plt.xscale('log')"
   ]
  },
  {
   "cell_type": "code",
   "execution_count": null,
   "metadata": {
    "execution": {
     "iopub.execute_input": "2024-07-09T12:45:38.187120Z",
     "iopub.status.busy": "2024-07-09T12:45:38.186539Z",
     "iopub.status.idle": "2024-07-09T12:46:06.102231Z",
     "shell.execute_reply": "2024-07-09T12:46:06.100620Z"
    }
   },
   "outputs": [],
   "source": [
    "param = {'star,ud':0.1, \n",
    "         'star,spectrum':'($WL/1.67)**-3.8', \n",
    "         'disk,fwhm':18., \n",
    "         'disk,A':1, \n",
    "         'disk,B':-2, \n",
    "         'disk,spectrum':'$disk,A*($WL/1.67)**$disk,B',\n",
    "        }\n",
    "fit = {'obs':['V2'],\n",
    "       'max relative error':{'V2':.17},\n",
    "       'min relative error':{'V2':0.05},\n",
    "      }\n",
    "oi.setupFit(fit)\n",
    "\n",
    "doNotFit=['star,ud']\n",
    "oi.doFit(param, doNotFit=doNotFit)\n",
    "oi.show(imFov=40, logB=True, imMax='99', imPlx=1.75, showUV=False)"
   ]
  },
  {
   "cell_type": "markdown",
   "metadata": {},
   "source": [
    "## Inclination and projected angle<a id='inclination_projangle'></a>\n",
    "\n",
    "Some baselines of similar length show different visibilities: the difference between these baselines is that they have different orientations. The difference in visibilities could be due to oblatness in the disk. To model this, we can add 'incl' and 'projang' to the component, which will squish the component by cos(`incl`) (in degrees) and the long axis will be aligned along projection angle `projang` (in degrees, N=0 and E=90).\n",
    "\n",
    "Note that compared to the previous model, the reduce $\\chi^2$ has improved."
   ]
  },
  {
   "cell_type": "code",
   "execution_count": null,
   "metadata": {
    "execution": {
     "iopub.execute_input": "2024-07-09T12:46:06.109026Z",
     "iopub.status.busy": "2024-07-09T12:46:06.108388Z",
     "iopub.status.idle": "2024-07-09T12:46:42.647131Z",
     "shell.execute_reply": "2024-07-09T12:46:42.645567Z"
    }
   },
   "outputs": [],
   "source": [
    "param = {'disk,fwhm':    17.97, # +/- 0.23\n",
    "    'disk,A':     1.3927, # +/- 0.0080\n",
    "    'disk,B':      2.44, # +/- 0.12\n",
    "    'disk,spectrum':'$disk,A*($WL/1.67)**$disk,B',\n",
    "    'star,spectrum':'($WL/1.67)**-3.8',\n",
    "    'star,ud':      0.1,\n",
    "    }\n",
    "param.update({'disk,incl':60, 'disk,projang':60,})\n",
    "\n",
    "fit = {'obs':['V2'],\n",
    "       'max relative error':{'V2':.17},\n",
    "       'min relative error':{'V2':0.05},\n",
    "      }\n",
    "oi.setupFit(fit)\n",
    "\n",
    "doNotFit=['star,ud']\n",
    "oi.doFit(param, doNotFit=doNotFit)\n",
    "oi.show(allInOne=True, imFov=40, logB=True, imMax='99', imPlx=1.75, showUV=False)"
   ]
  },
  {
   "cell_type": "markdown",
   "metadata": {},
   "source": [
    "# Change the geometry to a more realistic rim <a id='rim_and_disk'></a>\n",
    "\n",
    "in `PMOIRED`, a disk or a ring can have an arbitrary radial intensity profile, expressed as `profile`, with special character `$R` and `$D` referring to the radius and diameter in mas. A special value for `profile` is `doughnut` which correspond to a smooth parabolic variation going to 0 at the edges of the ring, and peaking at the mid-point:`1-(2*($R-np.mean($R))/np.ptp($R))**2`. The inner and outer diameters of the ring are defined by `diamin` and `diamout`. \n",
    "\n",
    "We saw that the data show non-0 closure phase (`T3PHI`), which means the object depart from central symmetry. One expects projection effect to show part of th inner edge being illuminated by the central star, whereas the over side will be shadowed. To simulate this, we can ntroduce an azimuthal intensity variation in the disk, using `az amp1` and `az projang1`, which describe the sinusoidal variation of order 1. `az amp1` should be between 0 and 1, whereas `az projang1` = ±90 corresponds to the smaller axis of the elliptical ring being over and under bright.\n",
    "\n",
    "**Reminder**: _`profile` does not set the absolute surface brightness so no care is needed to define the `profile` in terms of surface brightness with respect to other components. For this `spectrum` should be used to define the SED (total flux) of the component._"
   ]
  },
  {
   "cell_type": "code",
   "execution_count": null,
   "metadata": {
    "execution": {
     "iopub.execute_input": "2024-07-09T12:46:42.654019Z",
     "iopub.status.busy": "2024-07-09T12:46:42.653541Z",
     "iopub.status.idle": "2024-07-09T12:48:21.166144Z",
     "shell.execute_reply": "2024-07-09T12:48:21.162595Z"
    }
   },
   "outputs": [],
   "source": [
    "param = {'rim,diamin':     10., # +/- 0.42\n",
    "         'rim,diamout':     20., # +/- 0.42\n",
    "         'rim,az amp1':0.5,\n",
    "         'rim,az projang1':-90,\n",
    "         'rim,incl':     56.37, # +/- 2.31\n",
    "         'rim,projang':  66.27, # +/- 1.47\n",
    "         'rim,A':      1.3965, # +/- 0.0076\n",
    "         'rim,B':       2.34, # +/- 0.11\n",
    "         'rim,spectrum': '$rim,A*($WL/1.67)**$rim,B',\n",
    "         'rim,profile': 'doughnut',\n",
    "         'star,spectrum':'($WL/1.67)**-3.8',\n",
    "         'star,ud':      0.1,\n",
    "        }\n",
    "\n",
    "fit = {'obs':['V2', 'T3PHI'],\n",
    "       'max relative error':{'V2':.17},\n",
    "       'min relative error':{'V2':0.05},\n",
    "       'max error':{'T3PHI':5.0},\n",
    "       'min error':{'T3PHI':1.},\n",
    "      }\n",
    "oi.setupFit(fit)\n",
    "\n",
    "if True:\n",
    "    # -- actually fit parameters\n",
    "    doNotFit=['star,ud']\n",
    "    oi.doFit(param, doNotFit=doNotFit)\n",
    "    param = oi.bestfit['best']\n",
    "else:\n",
    "    # -- show parameter without fitting \n",
    "    pass\n",
    "\n",
    "oi.show(param, allInOne=True, imFov=30, imMax='99', logB=True, imPlx=1.75, showUV=False)"
   ]
  },
  {
   "cell_type": "markdown",
   "metadata": {},
   "source": [
    "## adding an extended disk\n",
    "We can see that both the visibilities amplitudes and closure phases are not well reproduces at short baselines. It means a large component is needed (larger than the rim). We add an extended disk, beyond the rim, which has its own azimuthal variation (to reproduce the closure phase). Here we arbitrarily give the ring a brightness variation profile in `1/$R**2`, and make it extend up to 4x its inner diameter (which is set to the outer diameter of the rim). The inclination and projection angle are inherited from the rim. To create the new model, the flux can be plit between the inner rim and (the old unique circum stellar component) and the newly added disk. \n",
    "\n",
    "The fit takes quite a while to converge (a couple of minutes): the $\\chi^2$ decreases very slowly. This is in part due to:\n",
    "- the difficulty to distinguish the spectral index of the inner rim from the outer disk. This is because we have a relatively small spectral window. A possibility it to use the same for both components as fitting them separatly lead to simiar values and high correlation.\n",
    "- the inner diameter `rim,diamin` is poorly constrain and goes to 0 (where it is limited internaly). We can fix to to 0 and exclude it from the fit by adding it to the `doNotFit` list.\n",
    "- the amplitudes of the azimuthal variations saturates to 1. There is a slight internal penalty when the model has negative flux, (`rim,az amp1`>1), which we can re-inforce by adding a prior `prior=[('rim,az amp1', '<', 1)]`. Note that if you have higher order amplitudes, you can have `rim,az amp1`>1 and the flux being positive, so this prior is only valid because we have only `amp1`."
   ]
  },
  {
   "cell_type": "code",
   "execution_count": null,
   "metadata": {
    "execution": {
     "iopub.execute_input": "2024-07-09T12:48:21.172239Z",
     "iopub.status.busy": "2024-07-09T12:48:21.171707Z",
     "iopub.status.idle": "2024-07-09T12:52:45.222520Z",
     "shell.execute_reply": "2024-07-09T12:52:45.221691Z"
    }
   },
   "outputs": [],
   "source": [
    "param = {'rim,A':          1.3407, # +/- 0.0091\n",
    "    'rim,B':          2.06, # +/- 0.13\n",
    "    'rim,az amp1':    0.664, # +/- 0.029\n",
    "    'rim,az projang1':-93.12, # +/- 1.50\n",
    "    'rim,diamin':     0.0, # +/- 0.75\n",
    "    'rim,diamout':    31.42, # +/- 0.35\n",
    "    'rim,incl':       54.21, # +/- 0.83\n",
    "    'rim,projang':    64.14, # +/- 1.08\n",
    "    'rim,profile':    'doughnut',\n",
    "    'rim,spectrum':   '$rim,A*($WL/1.67)**$rim,B',\n",
    "    'star,spectrum':  '($WL/1.67)**-3.8',\n",
    "    'star,ud':        0.1,\n",
    "    }\n",
    "\n",
    "# -- split the flux bewtween the rim and the disk\n",
    "param['rim,A'] /= 2\n",
    "\n",
    "# -- add extended disk\n",
    "param.update({'disk,A':        param['rim,A'], # just set value once, will be fitted later\n",
    "            'disk,B':          2, \n",
    "            'disk,az amp1':    1.0, \n",
    "            'disk,az projang1':-90, \n",
    "            'disk,diamin':     '$rim,diamout',\n",
    "            'disk,diamout':    '4*$disk,diamin',\n",
    "            'disk,incl':       '$rim,incl',\n",
    "            'disk,profile':    '1/$R**2',\n",
    "            'disk,projang':    '$rim,projang',\n",
    "            'disk,spectrum':   '$disk,A*($WL/1.67)**$disk,B',\n",
    "             })\n",
    "\n",
    "fit = {'obs':['V2', 'T3PHI'],\n",
    "       'max relative error':{'V2':.17},\n",
    "       'min relative error':{'V2':0.05},\n",
    "       'max error':{'T3PHI':5.0},\n",
    "       'min error':{'T3PHI':1.},\n",
    "      }\n",
    "oi.setupFit(fit)\n",
    "\n",
    "if True:\n",
    "    # -- actually fit parameters\n",
    "    doNotFit=['star,ud', 'rim,diamin']\n",
    "    oi.doFit(param, doNotFit=doNotFit, prior=[('rim,az amp1', '<', 1), ('disk,az amp1', '<', 1)])\n",
    "    param = oi.bestfit['best']\n",
    "else:\n",
    "    # -- show parameter without fitting \n",
    "    pass\n",
    "\n",
    "oi.show(param, allInOne=True, imFov=30, imMax='99', logB=True, imPlx=1.75)"
   ]
  },
  {
   "cell_type": "code",
   "execution_count": null,
   "metadata": {
    "execution": {
     "iopub.execute_input": "2024-07-09T12:52:45.226402Z",
     "iopub.status.busy": "2024-07-09T12:52:45.225953Z",
     "iopub.status.idle": "2024-07-09T12:52:48.238708Z",
     "shell.execute_reply": "2024-07-09T12:52:48.236844Z"
    }
   },
   "outputs": [],
   "source": [
    "oi.showFit()"
   ]
  },
  {
   "cell_type": "markdown",
   "metadata": {},
   "source": [
    "## Off-centred star to improve closure phases fit <a id='off_centered_star'></a>\n",
    "\n",
    "The closure phases are still not perfectly matched. To add degrees of freedom in deviating from central symmetry, we could add orders of azimuthal variations (via `az amp2`, `az projang2` etc.) but the even terms actually do not produce departure from central symmetry. One simple non-central complexity is to allow the star to not be at the centre of the rim+disk: by projection effect, the star can appear off-centered. \n",
    "\n",
    "Because we want the star to remain at the centre, to compare our results to similar analysis, we can move the ring and the disk using `x` and `y` (in mas towards E and N respectively). Optical interferometry is not sensitive to the absolute positioning.\n",
    "\n",
    "`rim,az amp1` and `disk,az amp1` are set to 1 and not fitted."
   ]
  },
  {
   "cell_type": "code",
   "execution_count": null,
   "metadata": {
    "execution": {
     "iopub.execute_input": "2024-07-09T12:52:48.250982Z",
     "iopub.status.busy": "2024-07-09T12:52:48.250447Z",
     "iopub.status.idle": "2024-07-09T12:54:11.857049Z",
     "shell.execute_reply": "2024-07-09T12:54:11.855200Z"
    }
   },
   "outputs": [],
   "source": [
    "param = {'disk,A':          0.511, # +/- 0.020\n",
    "        'disk,B':          1.59, # +/- 0.67\n",
    "        'disk,az amp1':    0.99, # +/- 0.29\n",
    "        'disk,az projang1':-101.61, # +/- 8.63\n",
    "        'rim,A':           0.829, # +/- 0.020\n",
    "        'rim,B':           2.30, # +/- 0.42\n",
    "        'rim,az amp1':     1.095, # +/- 0.040\n",
    "        'rim,az projang1': -99.57, # +/- 1.53\n",
    "        'rim,diamout':     27.85, # +/- 0.36\n",
    "        'rim,incl':        51.08, # +/- 1.07\n",
    "        'rim,projang':     68.65, # +/- 1.38\n",
    "        'disk,diamin':     '$rim,diamout',\n",
    "        'disk,diamout':    '4*$disk,diamin',\n",
    "        'disk,incl':       '$rim,incl',\n",
    "        'disk,profile':    '1/$R**2',\n",
    "        'disk,projang':    '$rim,projang',\n",
    "        'disk,spectrum':   '$disk,A*($WL/1.67)**$disk,B',\n",
    "        'rim,diamin':      0.0,\n",
    "        'rim,profile':     'doughnut',\n",
    "        'rim,spectrum':    '$rim,A*($WL/1.67)**$rim,B',\n",
    "        'star,spectrum':   '($WL/1.67)**-3.8',\n",
    "        'star,ud':         0.1,\n",
    "        }\n",
    "\n",
    "param.update({'rim,x':-0.5, 'rim,y':0.5, \n",
    "              'disk,x':'$rim,x', 'disk,y':'$rim,y', \n",
    "             })\n",
    "\n",
    "fit = {'obs':['V2', 'T3PHI'],\n",
    "       'max relative error':{'V2':.17},\n",
    "       'min relative error':{'V2':0.05},\n",
    "       'max error':{'T3PHI':5.0},\n",
    "       'min error':{'T3PHI':1.},\n",
    "      }\n",
    "oi.setupFit(fit)\n",
    "\n",
    "if True:\n",
    "    # -- actually fit parameters\n",
    "    doNotFit=['star,ud', 'rim,diamin']\n",
    "    # -- set amp1 to 1 and do not fit it\n",
    "    param['rim,az amp1']=1; doNotFit.append('rim,az amp1')\n",
    "    param['disk,az amp1']=1; doNotFit.append('disk,az amp1')\n",
    "    oi.doFit(param, doNotFit=doNotFit, follow=['rim,x', 'rim,y'])\n",
    "    param = oi.bestfit['best']\n",
    "else:\n",
    "    # -- show parameter without fitting \n",
    "    pass\n",
    "\n",
    "oi.show(param, allInOne=True, imFov=30, imMax='99', logB=True, imPlx=1.75)"
   ]
  },
  {
   "cell_type": "code",
   "execution_count": null,
   "metadata": {
    "execution": {
     "iopub.execute_input": "2024-07-09T12:54:11.863711Z",
     "iopub.status.busy": "2024-07-09T12:54:11.863099Z",
     "iopub.status.idle": "2024-07-09T12:54:15.113896Z",
     "shell.execute_reply": "2024-07-09T12:54:15.098540Z"
    },
    "tags": []
   },
   "outputs": [],
   "source": [
    "oi.showFit()"
   ]
  },
  {
   "cell_type": "markdown",
   "metadata": {},
   "source": [
    "# Comparison with other analysis<a id='comparison'></a>\n",
    "\n",
    "What we have done with `PMOIRED` is building a complex model by starting from a simple model and making it more complex, informed both by what we expect of the object and what the data tell us:\n",
    "- the overall variations of visibilities and what we expect the object to be led us to model an unresolved star + environment\n",
    "- the chromatic variations of visibilities indicated that the SEDs of the star and environment have different spetral indices\n",
    "- the environment is elongated, which we interpret as a inclination effect. \n",
    "- We switched from a gaussian environment to a ring to simulate the inner rim of a disk (with an inner cavity)\n",
    "- the environment departs from the central symmetry, so we introduced azimuthal variations (but left the inclined ring centered on the star) \n",
    "- we introduced a large structure (extended disk, beyond the rim) to model the visibilities and closure phases at smallest baselines.\n",
    "\n",
    "We can compare our model to analysis of the same or similar data:\n",
    "\n",
    "- [Lazareff et al. 2017](https://arxiv.org/pdf/1611.08428.pdf), image shown on [figure D1 (lower left, FS CMa==HD45677)](https://www.aanda.org/articles/aa/full_html/2017/03/aa29305-16/aa29305-16-fig26.jpg). The model is composed of 3 components: 1) a unresolved central star 2) an infinitely thin ring with sinusoidal azimuthal variations, convolved by a gaussian the size of the resolution of the interferometer 3) a fully resolved component, which shifts the visibility by a certain factor \n",
    "\n",
    "- [Kluska et al. 2020](https://arxiv.org/pdf/2004.01594.pdf), image shown on [figure 2 (upper left, FS CMa==HD45677)](https://www.aanda.org/articles/aa/full_html/2020/04/aa33774-18/aa33774-18-fig2.jpg): this image is obtained by image reconstruction.\n",
    "\n",
    "The 3 interpretations find an elongated structure much brighter on the same side, at the same distance from the central star. When interpreted as an effect of projection, the derived inclination of the the 3 interpretations agrees within 10º or so. \n",
    "\n",
    "Despite the complexity of our model, the agreement with the data is not perfect: in particular, the closure phases at long baselines (e.g. triangle K0D0J3) still show residuals because of small details we have not included in our model and we can see in the reconstructed image.\n",
    "\n",
    "Note that the synthetic image cubes is stored in `oi.images`, a dictionnary containing the cube, as well as the X and Y coordinates of the pixel. "
   ]
  },
  {
   "cell_type": "code",
   "execution_count": null,
   "metadata": {
    "execution": {
     "iopub.execute_input": "2024-07-09T12:54:15.139151Z",
     "iopub.status.busy": "2024-07-09T12:54:15.137701Z",
     "iopub.status.idle": "2024-07-09T12:54:17.144290Z",
     "shell.execute_reply": "2024-07-09T12:54:17.141716Z"
    }
   },
   "outputs": [],
   "source": [
    "import matplotlib.image as mpimg \n",
    "from scipy import fftpack\n",
    "import os\n",
    "\n",
    "# == load and show screen capture from Lazareff+ 2017\n",
    "Laz = mpimg.imread(os.path.join('../DATA', 'FS_CMa', 'FSCMa_Lazareff_20x20mas.png'))[::2,::2,0]\n",
    "xLaz, yLaz = np.linspace(20, -20, Laz.shape[1]), np.linspace(20, -20, Laz.shape[0])\n",
    "XLaz, YLaz = np.meshgrid(xLaz, yLaz)\n",
    "# -- convolve image to remove central cross\n",
    "K = np.exp(-(XLaz**2+YLaz**2)/.1)\n",
    "K /= np.sum(K)\n",
    "Laz = fftpack.ifft2(fftpack.fft2(Laz)*fftpack.fft2(K)).real\n",
    "Laz = np.roll(Laz, Laz.shape[0]//2, axis=0)\n",
    "Laz = np.roll(Laz, Laz.shape[1]//2, axis=1)\n",
    "\n",
    "# == load and show screen capture from Kluska+ 2020\n",
    "Klu = mpimg.imread(os.path.join('../DATA', 'FS_CMa', 'FSCMa_Kluska_13x13mas.png'))[::2,::2,0]\n",
    "Klu = np.max(Klu)-Klu # reverse image\n",
    "Klu[-50:,:] = np.median(Klu) # -- remove tag\n",
    "# Klu -= np.median(Klu) #  -- remove background\n",
    "# Klu *= Klu>0\n",
    "xKlu, yKlu = np.linspace(13, -13, Klu.shape[1]), np.linspace(13, -13, Klu.shape[0])\n",
    "XKlu, YKlu = np.meshgrid(xKlu, yKlu)\n",
    "# -- convolve image to remove contour lines\n",
    "K = np.exp(-(XKlu**2+YKlu**2)/.05)\n",
    "K /= np.sum(K)\n",
    "Klu = fftpack.ifft2(fftpack.fft2(Klu)*fftpack.fft2(K)).real\n",
    "Klu = np.roll(Klu, Klu.shape[0]//2, axis=0)\n",
    "Klu = np.roll(Klu, Klu.shape[1]//2, axis=1)\n",
    "\n",
    "# == show images in the same frame\n",
    "plt.close(100);\n",
    "fig = plt.figure(100, figsize=(12, 3.5), constrained_layout=True) \n",
    "ax1=plt.subplot(141, aspect='equal')\n",
    "#gs = fig.add_gridspec(4, 3)\n",
    "#ax1 = fig.add_subplot(gs[0, 0], aspect='equal')\n",
    "\n",
    "plt.pcolormesh(XLaz, YLaz, Laz, shading='auto', cmap='magma')\n",
    "plt.title('Lazareff+ 2017\\n'+r'$i\\sim50^\\circ, PA\\sim69^\\circ$', \n",
    "          fontsize=9, x=0.05, y=0.0, ha='left', va='bottom', color=(0.4, 1, 0.4))\n",
    "plt.ylabel(r'$\\Delta$ Dec $\\rightarrow$N (mas)')\n",
    "plt.xlabel(r'$\\Delta$ RA E$\\leftarrow$ (mas)')\n",
    "\n",
    "ax2=plt.subplot(142, aspect='equal', sharex=ax1, sharey=ax1)\n",
    "ax2.set_facecolor('k')\n",
    "#ax2 = fig.add_subplot(gs[1, 0], aspect='equal', sharex=ax1, sharey=ax1)\n",
    "\n",
    "plt.pcolormesh(XKlu, YKlu, Klu, shading='auto', cmap='magma')\n",
    "\n",
    "plt.title('Kluska+ 2020\\n'+r'$i\\sim45^\\circ, PA\\sim76^\\circ$', \n",
    "          fontsize=9, x=0.05, y=0.0, ha='left', va='bottom', color=(1, 0.4, 0.4))\n",
    "#plt.ylabel(r'$\\Delta$ Dec $\\rightarrow$N (mas)')\n",
    "plt.xlabel(r'$\\Delta$ RA E$\\leftarrow$ (mas)')\n",
    "\n",
    "ax3=plt.subplot(143, aspect='equal', sharex=ax1, sharey=ax1)\n",
    "#ax3 = fig.add_subplot(gs[2,0], aspect='equal', sharex=ax1, sharey=ax1)\n",
    "\n",
    "plt.pcolormesh(oi.images['X'], oi.images['Y'], \n",
    "               np.mean(oi.images['cube'], axis=0), \n",
    "               shading='auto', cmap='magma', vmax=np.percentile(np.mean(oi.images['cube'], axis=0), 99))\n",
    "plt.title('PMOIRED\\n'+r'$i\\sim%.0f^\\circ, PA\\sim%.0f^\\circ$'%(oi.bestfit['best']['rim,incl'],\n",
    "                                                          oi.bestfit['best']['rim,projang']), \n",
    "          fontsize=9, x=0.05, y=0.0, ha='left', va='bottom', color=(0.4, 0.4, 1))\n",
    "#plt.ylabel(r'$\\Delta$ Dec $\\rightarrow$N (mas)')\n",
    "plt.xlabel(r'$\\Delta$ RA E$\\leftarrow$ (mas)')\n",
    "plt.xlim(-15, 15); plt.ylim(-15, 15)\n",
    "ax3.invert_xaxis()\n",
    "\n",
    "ax4=plt.subplot(144, aspect='equal', sharex=ax1, sharey=ax1)\n",
    "#plt.title('95% percentiles')\n",
    "plt.contour(XLaz, YLaz, Laz, [np.percentile(Laz, 92), np.percentile(Laz, 96)], \n",
    "            colors='g', linewidths=[1, 3], linestyles=['dotted', 'solid'])\n",
    "plt.contour(XKlu, YKlu, Klu, [np.percentile(Klu, 92), np.percentile(Klu, 96)], \n",
    "            colors='r', linewidths=[1, 3],  linestyles=['dotted', 'solid'])\n",
    "plt.contour(oi.images['X'], oi.images['Y'], np.mean(oi.images['cube'], axis=0), \n",
    "                [np.percentile(np.mean(oi.images['cube'], axis=0), 92),\n",
    "                 np.percentile(np.mean(oi.images['cube'], axis=0), 96)], \n",
    "            colors='b', linewidths=[1, 3], linestyles=['dotted', 'solid'])\n",
    "plt.xlabel(r'$\\Delta$ RA E$\\leftarrow$ (mas)')\n",
    "#plt.ylabel(r'$\\Delta$ Dec $\\rightarrow$N (mas)')\n",
    "plt.xlim(-15, 15); plt.ylim(-15, 15)\n",
    "ax4.invert_xaxis()\n",
    "plt.tight_layout()"
   ]
  },
  {
   "cell_type": "markdown",
   "metadata": {},
   "source": [
    "# Bonus: assert the detection limit for a companion (planet?)<a id='planet'></a>\n",
    "\n",
    "Same as in the [AX Cir analysis in PMOIRED examples](https://github.com/amerand/PMOIRED/blob/master/examples/companion%20search%20AXCir.ipynb), based on the feature in [CANDID](https://github.com/amerand/CANDID).\n",
    "\n",
    "Assuming that the best model is the one we found before, we add a third unresolved component. Using `detectionLimit` in a way very similar to `gridSearch`. We define an exploration pattern randomising on the position of the third components, and estimating the flux leading to a 3$\\sigma$ detection. This method was described in [Absil et al (2011)](https://ui.adsabs.harvard.edu/abs/2011A%26A...535A..68A/abstract). Using `showLimGrid`, we see the detection level as function of position of third component (left), as well as the histogram of the its 3$\\sigma$ magnitude. Note that we need to set `mag=True` option to get the display in magnitude, rather than straight fluxes. Note also that interpretating the result needs to take into account the flux of the primary, which is 1 in our case.  \n",
    "\n",
    "_Warning_: this can take several minutes to compute, depending how fast your computer is and how many CPUs are available"
   ]
  },
  {
   "cell_type": "code",
   "execution_count": null,
   "metadata": {
    "execution": {
     "iopub.execute_input": "2024-07-09T12:54:17.151625Z",
     "iopub.status.busy": "2024-07-09T12:54:17.150964Z",
     "iopub.status.idle": "2024-07-09T12:55:45.703729Z",
     "shell.execute_reply": "2024-07-09T12:55:45.701507Z"
    },
    "tags": []
   },
   "outputs": [],
   "source": [
    "# -- best model from above\n",
    "best = oi.bestfit['best']\n",
    "\n",
    "# -- add planet\n",
    "best.update({'planet,ud':0, 'planet,x':0, 'planet,y':0, 'planet,spectrum':'$planet,flux*($WL/1.67)**-3.8', 'planet,flux':0.01})\n",
    "\n",
    "# -- random exploration\n",
    "expl = {'rand':{'planet,x':(-20,20), 'planet,y':(-20, 20)}}\n",
    "\n",
    "# -- just in case it was not done before...\n",
    "fit = {'obs':['V2', 'T3PHI'],\n",
    "       'max relative error':{'V2':.17},\n",
    "       'min relative error':{'V2':0.05},\n",
    "       'max error':{'T3PHI':5.0},\n",
    "       'min error':{'T3PHI':1.},\n",
    "      }\n",
    "oi.setupFit(fit)\n",
    "\n",
    "oi.detectionLimit(expl, 'planet,flux', model=best, Nfits=50, nsigma=3)\n",
    " \n",
    "oi.showLimGrid(mag=True)"
   ]
  },
  {
   "cell_type": "code",
   "execution_count": null,
   "metadata": {},
   "outputs": [],
   "source": []
  }
 ],
 "metadata": {
  "kernelspec": {
   "display_name": "Python 3 (ipykernel)",
   "language": "python",
   "name": "python3"
  },
  "language_info": {
   "codemirror_mode": {
    "name": "ipython",
    "version": 3
   },
   "file_extension": ".py",
   "mimetype": "text/x-python",
   "name": "python",
   "nbconvert_exporter": "python",
   "pygments_lexer": "ipython3",
   "version": "3.12.2"
  },
  "toc-showmarkdowntxt": false,
  "widgets": {
   "application/vnd.jupyter.widget-state+json": {
    "state": {},
    "version_major": 2,
    "version_minor": 0
   }
  }
 },
 "nbformat": 4,
 "nbformat_minor": 4
}
